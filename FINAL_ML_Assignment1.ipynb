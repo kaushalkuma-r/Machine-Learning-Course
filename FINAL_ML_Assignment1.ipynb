{
  "cells": [
    {
      "cell_type": "markdown",
      "metadata": {
        "id": "view-in-github",
        "colab_type": "text"
      },
      "source": [
        "<a href=\"https://colab.research.google.com/github/kaushalkuma-r/Machine-Learning-Course/blob/main/FINAL_ML_Assignment1.ipynb\" target=\"_parent\"><img src=\"https://colab.research.google.com/assets/colab-badge.svg\" alt=\"Open In Colab\"/></a>"
      ]
    },
    {
      "cell_type": "markdown",
      "metadata": {
        "id": "kerUYJ7b8R_Z"
      },
      "source": [
        "## Import tools"
      ]
    },
    {
      "cell_type": "code",
      "execution_count": null,
      "metadata": {
        "id": "kWbwuuZf8R_c"
      },
      "outputs": [],
      "source": [
        "import numpy as np\n",
        "import pandas as pd\n",
        "import random\n",
        "random.seed(42)"
      ]
    },
    {
      "cell_type": "markdown",
      "metadata": {
        "id": "0cDAwyHg8R_e"
      },
      "source": [
        "## Get the data"
      ]
    },
    {
      "cell_type": "code",
      "execution_count": null,
      "metadata": {
        "id": "oHzg_iUV8R_e"
      },
      "outputs": [],
      "source": [
        "visitors_df=pd.read_csv(\"https://raw.githubusercontent.com/kaushalkuma-r/Machine-Learning-Course/main/visitors-covid.csv\")\n",
        "covid_df=pd.read_csv(\"https://raw.githubusercontent.com/kaushalkuma-r/Machine-Learning-Course/main/covid-data.csv\")"
      ]
    },
    {
      "cell_type": "code",
      "execution_count": null,
      "metadata": {
        "colab": {
          "base_uri": "https://localhost:8080/"
        },
        "id": "GTTRyC648R_f",
        "outputId": "b6c5be7e-0cc6-4757-d653-59940a983fa8"
      },
      "outputs": [
        {
          "output_type": "stream",
          "name": "stderr",
          "text": [
            "/usr/local/lib/python3.7/dist-packages/pandas/core/frame.py:5047: SettingWithCopyWarning: \n",
            "A value is trying to be set on a copy of a slice from a DataFrame\n",
            "\n",
            "See the caveats in the documentation: https://pandas.pydata.org/pandas-docs/stable/user_guide/indexing.html#returning-a-view-versus-a-copy\n",
            "  errors=errors,\n"
          ]
        }
      ],
      "source": [
        "covid_df['date']=pd.to_datetime(covid_df['date'])\n",
        "visitors_df['Day']=pd.to_datetime(visitors_df['Day'])\n",
        "covid_df=covid_df[['iso_code', 'continent', 'location', 'date','new_cases']]\n",
        "covid_df=covid_df[covid_df['location']=='India']\n",
        "visitors_df=visitors_df[visitors_df['Entity']=='India']\n",
        "visitors_df.rename(columns={'Day':'date'},inplace=True)\n",
        "covid_merged=pd.merge(covid_df, visitors_df, on='date')\n",
        "final_df=covid_merged.drop(columns=['iso_code', 'continent', 'location', 'date','Entity','Code'])"
      ]
    },
    {
      "cell_type": "code",
      "execution_count": null,
      "metadata": {
        "colab": {
          "base_uri": "https://localhost:8080/",
          "height": 423
        },
        "id": "0pawhIlt8R_f",
        "outputId": "694f0f3f-d059-4a77-f5cf-e8f112715ffd"
      },
      "outputs": [
        {
          "output_type": "execute_result",
          "data": {
            "text/plain": [
              "     new_cases  retail_and_recreation  grocery_and_pharmacy  residential  \\\n",
              "0          0.0                  0.667                 1.667        0.000   \n",
              "1          0.0                  0.500                 1.750        0.000   \n",
              "2          0.0                  0.400                 1.800        0.200   \n",
              "3          0.0                  0.500                 2.000        0.000   \n",
              "4          0.0                 -0.143                 1.714        0.714   \n",
              "..         ...                    ...                   ...          ...   \n",
              "466   173790.0                -61.714               -25.000       24.143   \n",
              "467   165553.0                -61.286               -24.429       23.714   \n",
              "468   152734.0                -61.143               -24.714       23.714   \n",
              "469   127510.0                -60.143               -23.429       23.286   \n",
              "470   132788.0                -58.714               -21.143       22.714   \n",
              "\n",
              "     transit_stations   parks  workplaces  \n",
              "0               2.000   3.000       3.000  \n",
              "1               2.000   3.250       3.000  \n",
              "2               1.800   2.800       3.200  \n",
              "3               2.333   3.167       3.333  \n",
              "4               1.429   3.571       0.143  \n",
              "..                ...     ...         ...  \n",
              "466           -49.143 -41.000     -45.429  \n",
              "467           -48.714 -40.000     -44.571  \n",
              "468           -49.000 -39.143     -44.286  \n",
              "469           -48.286 -38.000     -43.429  \n",
              "470           -47.000 -36.571     -42.429  \n",
              "\n",
              "[471 rows x 7 columns]"
            ],
            "text/html": [
              "\n",
              "  <div id=\"df-3efeed31-72fd-4960-9401-d55760e1a340\">\n",
              "    <div class=\"colab-df-container\">\n",
              "      <div>\n",
              "<style scoped>\n",
              "    .dataframe tbody tr th:only-of-type {\n",
              "        vertical-align: middle;\n",
              "    }\n",
              "\n",
              "    .dataframe tbody tr th {\n",
              "        vertical-align: top;\n",
              "    }\n",
              "\n",
              "    .dataframe thead th {\n",
              "        text-align: right;\n",
              "    }\n",
              "</style>\n",
              "<table border=\"1\" class=\"dataframe\">\n",
              "  <thead>\n",
              "    <tr style=\"text-align: right;\">\n",
              "      <th></th>\n",
              "      <th>new_cases</th>\n",
              "      <th>retail_and_recreation</th>\n",
              "      <th>grocery_and_pharmacy</th>\n",
              "      <th>residential</th>\n",
              "      <th>transit_stations</th>\n",
              "      <th>parks</th>\n",
              "      <th>workplaces</th>\n",
              "    </tr>\n",
              "  </thead>\n",
              "  <tbody>\n",
              "    <tr>\n",
              "      <th>0</th>\n",
              "      <td>0.0</td>\n",
              "      <td>0.667</td>\n",
              "      <td>1.667</td>\n",
              "      <td>0.000</td>\n",
              "      <td>2.000</td>\n",
              "      <td>3.000</td>\n",
              "      <td>3.000</td>\n",
              "    </tr>\n",
              "    <tr>\n",
              "      <th>1</th>\n",
              "      <td>0.0</td>\n",
              "      <td>0.500</td>\n",
              "      <td>1.750</td>\n",
              "      <td>0.000</td>\n",
              "      <td>2.000</td>\n",
              "      <td>3.250</td>\n",
              "      <td>3.000</td>\n",
              "    </tr>\n",
              "    <tr>\n",
              "      <th>2</th>\n",
              "      <td>0.0</td>\n",
              "      <td>0.400</td>\n",
              "      <td>1.800</td>\n",
              "      <td>0.200</td>\n",
              "      <td>1.800</td>\n",
              "      <td>2.800</td>\n",
              "      <td>3.200</td>\n",
              "    </tr>\n",
              "    <tr>\n",
              "      <th>3</th>\n",
              "      <td>0.0</td>\n",
              "      <td>0.500</td>\n",
              "      <td>2.000</td>\n",
              "      <td>0.000</td>\n",
              "      <td>2.333</td>\n",
              "      <td>3.167</td>\n",
              "      <td>3.333</td>\n",
              "    </tr>\n",
              "    <tr>\n",
              "      <th>4</th>\n",
              "      <td>0.0</td>\n",
              "      <td>-0.143</td>\n",
              "      <td>1.714</td>\n",
              "      <td>0.714</td>\n",
              "      <td>1.429</td>\n",
              "      <td>3.571</td>\n",
              "      <td>0.143</td>\n",
              "    </tr>\n",
              "    <tr>\n",
              "      <th>...</th>\n",
              "      <td>...</td>\n",
              "      <td>...</td>\n",
              "      <td>...</td>\n",
              "      <td>...</td>\n",
              "      <td>...</td>\n",
              "      <td>...</td>\n",
              "      <td>...</td>\n",
              "    </tr>\n",
              "    <tr>\n",
              "      <th>466</th>\n",
              "      <td>173790.0</td>\n",
              "      <td>-61.714</td>\n",
              "      <td>-25.000</td>\n",
              "      <td>24.143</td>\n",
              "      <td>-49.143</td>\n",
              "      <td>-41.000</td>\n",
              "      <td>-45.429</td>\n",
              "    </tr>\n",
              "    <tr>\n",
              "      <th>467</th>\n",
              "      <td>165553.0</td>\n",
              "      <td>-61.286</td>\n",
              "      <td>-24.429</td>\n",
              "      <td>23.714</td>\n",
              "      <td>-48.714</td>\n",
              "      <td>-40.000</td>\n",
              "      <td>-44.571</td>\n",
              "    </tr>\n",
              "    <tr>\n",
              "      <th>468</th>\n",
              "      <td>152734.0</td>\n",
              "      <td>-61.143</td>\n",
              "      <td>-24.714</td>\n",
              "      <td>23.714</td>\n",
              "      <td>-49.000</td>\n",
              "      <td>-39.143</td>\n",
              "      <td>-44.286</td>\n",
              "    </tr>\n",
              "    <tr>\n",
              "      <th>469</th>\n",
              "      <td>127510.0</td>\n",
              "      <td>-60.143</td>\n",
              "      <td>-23.429</td>\n",
              "      <td>23.286</td>\n",
              "      <td>-48.286</td>\n",
              "      <td>-38.000</td>\n",
              "      <td>-43.429</td>\n",
              "    </tr>\n",
              "    <tr>\n",
              "      <th>470</th>\n",
              "      <td>132788.0</td>\n",
              "      <td>-58.714</td>\n",
              "      <td>-21.143</td>\n",
              "      <td>22.714</td>\n",
              "      <td>-47.000</td>\n",
              "      <td>-36.571</td>\n",
              "      <td>-42.429</td>\n",
              "    </tr>\n",
              "  </tbody>\n",
              "</table>\n",
              "<p>471 rows × 7 columns</p>\n",
              "</div>\n",
              "      <button class=\"colab-df-convert\" onclick=\"convertToInteractive('df-3efeed31-72fd-4960-9401-d55760e1a340')\"\n",
              "              title=\"Convert this dataframe to an interactive table.\"\n",
              "              style=\"display:none;\">\n",
              "        \n",
              "  <svg xmlns=\"http://www.w3.org/2000/svg\" height=\"24px\"viewBox=\"0 0 24 24\"\n",
              "       width=\"24px\">\n",
              "    <path d=\"M0 0h24v24H0V0z\" fill=\"none\"/>\n",
              "    <path d=\"M18.56 5.44l.94 2.06.94-2.06 2.06-.94-2.06-.94-.94-2.06-.94 2.06-2.06.94zm-11 1L8.5 8.5l.94-2.06 2.06-.94-2.06-.94L8.5 2.5l-.94 2.06-2.06.94zm10 10l.94 2.06.94-2.06 2.06-.94-2.06-.94-.94-2.06-.94 2.06-2.06.94z\"/><path d=\"M17.41 7.96l-1.37-1.37c-.4-.4-.92-.59-1.43-.59-.52 0-1.04.2-1.43.59L10.3 9.45l-7.72 7.72c-.78.78-.78 2.05 0 2.83L4 21.41c.39.39.9.59 1.41.59.51 0 1.02-.2 1.41-.59l7.78-7.78 2.81-2.81c.8-.78.8-2.07 0-2.86zM5.41 20L4 18.59l7.72-7.72 1.47 1.35L5.41 20z\"/>\n",
              "  </svg>\n",
              "      </button>\n",
              "      \n",
              "  <style>\n",
              "    .colab-df-container {\n",
              "      display:flex;\n",
              "      flex-wrap:wrap;\n",
              "      gap: 12px;\n",
              "    }\n",
              "\n",
              "    .colab-df-convert {\n",
              "      background-color: #E8F0FE;\n",
              "      border: none;\n",
              "      border-radius: 50%;\n",
              "      cursor: pointer;\n",
              "      display: none;\n",
              "      fill: #1967D2;\n",
              "      height: 32px;\n",
              "      padding: 0 0 0 0;\n",
              "      width: 32px;\n",
              "    }\n",
              "\n",
              "    .colab-df-convert:hover {\n",
              "      background-color: #E2EBFA;\n",
              "      box-shadow: 0px 1px 2px rgba(60, 64, 67, 0.3), 0px 1px 3px 1px rgba(60, 64, 67, 0.15);\n",
              "      fill: #174EA6;\n",
              "    }\n",
              "\n",
              "    [theme=dark] .colab-df-convert {\n",
              "      background-color: #3B4455;\n",
              "      fill: #D2E3FC;\n",
              "    }\n",
              "\n",
              "    [theme=dark] .colab-df-convert:hover {\n",
              "      background-color: #434B5C;\n",
              "      box-shadow: 0px 1px 3px 1px rgba(0, 0, 0, 0.15);\n",
              "      filter: drop-shadow(0px 1px 2px rgba(0, 0, 0, 0.3));\n",
              "      fill: #FFFFFF;\n",
              "    }\n",
              "  </style>\n",
              "\n",
              "      <script>\n",
              "        const buttonEl =\n",
              "          document.querySelector('#df-3efeed31-72fd-4960-9401-d55760e1a340 button.colab-df-convert');\n",
              "        buttonEl.style.display =\n",
              "          google.colab.kernel.accessAllowed ? 'block' : 'none';\n",
              "\n",
              "        async function convertToInteractive(key) {\n",
              "          const element = document.querySelector('#df-3efeed31-72fd-4960-9401-d55760e1a340');\n",
              "          const dataTable =\n",
              "            await google.colab.kernel.invokeFunction('convertToInteractive',\n",
              "                                                     [key], {});\n",
              "          if (!dataTable) return;\n",
              "\n",
              "          const docLinkHtml = 'Like what you see? Visit the ' +\n",
              "            '<a target=\"_blank\" href=https://colab.research.google.com/notebooks/data_table.ipynb>data table notebook</a>'\n",
              "            + ' to learn more about interactive tables.';\n",
              "          element.innerHTML = '';\n",
              "          dataTable['output_type'] = 'display_data';\n",
              "          await google.colab.output.renderOutput(dataTable, element);\n",
              "          const docLink = document.createElement('div');\n",
              "          docLink.innerHTML = docLinkHtml;\n",
              "          element.appendChild(docLink);\n",
              "        }\n",
              "      </script>\n",
              "    </div>\n",
              "  </div>\n",
              "  "
            ]
          },
          "metadata": {},
          "execution_count": 4
        }
      ],
      "source": [
        "final_df"
      ]
    },
    {
      "cell_type": "code",
      "execution_count": null,
      "metadata": {
        "colab": {
          "base_uri": "https://localhost:8080/",
          "height": 206
        },
        "id": "sR-yiL-y8R_g",
        "outputId": "d41046db-d323-4199-b7cc-fda837bcda5f"
      },
      "outputs": [
        {
          "output_type": "execute_result",
          "data": {
            "text/plain": [
              "   new_cases  retail_and_recreation  grocery_and_pharmacy  residential  \\\n",
              "0        0.0                  0.667                 1.667        0.000   \n",
              "1        0.0                  0.500                 1.750        0.000   \n",
              "2        0.0                  0.400                 1.800        0.200   \n",
              "3        0.0                  0.500                 2.000        0.000   \n",
              "4        0.0                 -0.143                 1.714        0.714   \n",
              "\n",
              "   transit_stations  parks  workplaces  \n",
              "0             2.000  3.000       3.000  \n",
              "1             2.000  3.250       3.000  \n",
              "2             1.800  2.800       3.200  \n",
              "3             2.333  3.167       3.333  \n",
              "4             1.429  3.571       0.143  "
            ],
            "text/html": [
              "\n",
              "  <div id=\"df-ee32f721-ba39-4043-9e7b-4d0411141ff5\">\n",
              "    <div class=\"colab-df-container\">\n",
              "      <div>\n",
              "<style scoped>\n",
              "    .dataframe tbody tr th:only-of-type {\n",
              "        vertical-align: middle;\n",
              "    }\n",
              "\n",
              "    .dataframe tbody tr th {\n",
              "        vertical-align: top;\n",
              "    }\n",
              "\n",
              "    .dataframe thead th {\n",
              "        text-align: right;\n",
              "    }\n",
              "</style>\n",
              "<table border=\"1\" class=\"dataframe\">\n",
              "  <thead>\n",
              "    <tr style=\"text-align: right;\">\n",
              "      <th></th>\n",
              "      <th>new_cases</th>\n",
              "      <th>retail_and_recreation</th>\n",
              "      <th>grocery_and_pharmacy</th>\n",
              "      <th>residential</th>\n",
              "      <th>transit_stations</th>\n",
              "      <th>parks</th>\n",
              "      <th>workplaces</th>\n",
              "    </tr>\n",
              "  </thead>\n",
              "  <tbody>\n",
              "    <tr>\n",
              "      <th>0</th>\n",
              "      <td>0.0</td>\n",
              "      <td>0.667</td>\n",
              "      <td>1.667</td>\n",
              "      <td>0.000</td>\n",
              "      <td>2.000</td>\n",
              "      <td>3.000</td>\n",
              "      <td>3.000</td>\n",
              "    </tr>\n",
              "    <tr>\n",
              "      <th>1</th>\n",
              "      <td>0.0</td>\n",
              "      <td>0.500</td>\n",
              "      <td>1.750</td>\n",
              "      <td>0.000</td>\n",
              "      <td>2.000</td>\n",
              "      <td>3.250</td>\n",
              "      <td>3.000</td>\n",
              "    </tr>\n",
              "    <tr>\n",
              "      <th>2</th>\n",
              "      <td>0.0</td>\n",
              "      <td>0.400</td>\n",
              "      <td>1.800</td>\n",
              "      <td>0.200</td>\n",
              "      <td>1.800</td>\n",
              "      <td>2.800</td>\n",
              "      <td>3.200</td>\n",
              "    </tr>\n",
              "    <tr>\n",
              "      <th>3</th>\n",
              "      <td>0.0</td>\n",
              "      <td>0.500</td>\n",
              "      <td>2.000</td>\n",
              "      <td>0.000</td>\n",
              "      <td>2.333</td>\n",
              "      <td>3.167</td>\n",
              "      <td>3.333</td>\n",
              "    </tr>\n",
              "    <tr>\n",
              "      <th>4</th>\n",
              "      <td>0.0</td>\n",
              "      <td>-0.143</td>\n",
              "      <td>1.714</td>\n",
              "      <td>0.714</td>\n",
              "      <td>1.429</td>\n",
              "      <td>3.571</td>\n",
              "      <td>0.143</td>\n",
              "    </tr>\n",
              "  </tbody>\n",
              "</table>\n",
              "</div>\n",
              "      <button class=\"colab-df-convert\" onclick=\"convertToInteractive('df-ee32f721-ba39-4043-9e7b-4d0411141ff5')\"\n",
              "              title=\"Convert this dataframe to an interactive table.\"\n",
              "              style=\"display:none;\">\n",
              "        \n",
              "  <svg xmlns=\"http://www.w3.org/2000/svg\" height=\"24px\"viewBox=\"0 0 24 24\"\n",
              "       width=\"24px\">\n",
              "    <path d=\"M0 0h24v24H0V0z\" fill=\"none\"/>\n",
              "    <path d=\"M18.56 5.44l.94 2.06.94-2.06 2.06-.94-2.06-.94-.94-2.06-.94 2.06-2.06.94zm-11 1L8.5 8.5l.94-2.06 2.06-.94-2.06-.94L8.5 2.5l-.94 2.06-2.06.94zm10 10l.94 2.06.94-2.06 2.06-.94-2.06-.94-.94-2.06-.94 2.06-2.06.94z\"/><path d=\"M17.41 7.96l-1.37-1.37c-.4-.4-.92-.59-1.43-.59-.52 0-1.04.2-1.43.59L10.3 9.45l-7.72 7.72c-.78.78-.78 2.05 0 2.83L4 21.41c.39.39.9.59 1.41.59.51 0 1.02-.2 1.41-.59l7.78-7.78 2.81-2.81c.8-.78.8-2.07 0-2.86zM5.41 20L4 18.59l7.72-7.72 1.47 1.35L5.41 20z\"/>\n",
              "  </svg>\n",
              "      </button>\n",
              "      \n",
              "  <style>\n",
              "    .colab-df-container {\n",
              "      display:flex;\n",
              "      flex-wrap:wrap;\n",
              "      gap: 12px;\n",
              "    }\n",
              "\n",
              "    .colab-df-convert {\n",
              "      background-color: #E8F0FE;\n",
              "      border: none;\n",
              "      border-radius: 50%;\n",
              "      cursor: pointer;\n",
              "      display: none;\n",
              "      fill: #1967D2;\n",
              "      height: 32px;\n",
              "      padding: 0 0 0 0;\n",
              "      width: 32px;\n",
              "    }\n",
              "\n",
              "    .colab-df-convert:hover {\n",
              "      background-color: #E2EBFA;\n",
              "      box-shadow: 0px 1px 2px rgba(60, 64, 67, 0.3), 0px 1px 3px 1px rgba(60, 64, 67, 0.15);\n",
              "      fill: #174EA6;\n",
              "    }\n",
              "\n",
              "    [theme=dark] .colab-df-convert {\n",
              "      background-color: #3B4455;\n",
              "      fill: #D2E3FC;\n",
              "    }\n",
              "\n",
              "    [theme=dark] .colab-df-convert:hover {\n",
              "      background-color: #434B5C;\n",
              "      box-shadow: 0px 1px 3px 1px rgba(0, 0, 0, 0.15);\n",
              "      filter: drop-shadow(0px 1px 2px rgba(0, 0, 0, 0.3));\n",
              "      fill: #FFFFFF;\n",
              "    }\n",
              "  </style>\n",
              "\n",
              "      <script>\n",
              "        const buttonEl =\n",
              "          document.querySelector('#df-ee32f721-ba39-4043-9e7b-4d0411141ff5 button.colab-df-convert');\n",
              "        buttonEl.style.display =\n",
              "          google.colab.kernel.accessAllowed ? 'block' : 'none';\n",
              "\n",
              "        async function convertToInteractive(key) {\n",
              "          const element = document.querySelector('#df-ee32f721-ba39-4043-9e7b-4d0411141ff5');\n",
              "          const dataTable =\n",
              "            await google.colab.kernel.invokeFunction('convertToInteractive',\n",
              "                                                     [key], {});\n",
              "          if (!dataTable) return;\n",
              "\n",
              "          const docLinkHtml = 'Like what you see? Visit the ' +\n",
              "            '<a target=\"_blank\" href=https://colab.research.google.com/notebooks/data_table.ipynb>data table notebook</a>'\n",
              "            + ' to learn more about interactive tables.';\n",
              "          element.innerHTML = '';\n",
              "          dataTable['output_type'] = 'display_data';\n",
              "          await google.colab.output.renderOutput(dataTable, element);\n",
              "          const docLink = document.createElement('div');\n",
              "          docLink.innerHTML = docLinkHtml;\n",
              "          element.appendChild(docLink);\n",
              "        }\n",
              "      </script>\n",
              "    </div>\n",
              "  </div>\n",
              "  "
            ]
          },
          "metadata": {},
          "execution_count": 5
        }
      ],
      "source": [
        "data = final_df\n",
        "data.head(5)"
      ]
    },
    {
      "cell_type": "markdown",
      "metadata": {
        "id": "07UNYsy08R_l"
      },
      "source": [
        "## Train-Test split"
      ]
    },
    {
      "cell_type": "code",
      "execution_count": null,
      "metadata": {
        "id": "9oX9g8GBCBAX"
      },
      "outputs": [],
      "source": [
        "shuffle_df = final_df.sample(frac=1)\n",
        "\n",
        "# Defining a size for train set \n",
        "train_size = int(0.8 * len(final_df))\n",
        "\n",
        "# Splitting dataset \n",
        "train_set = shuffle_df[:train_size]\n",
        "test_set = shuffle_df[train_size:]\n",
        "\n",
        "X_train , Y_train = train_set.drop('new_cases' , axis = 1).values , train_set['new_cases'].values.reshape(-1,1)\n",
        "X_test , Y_test = test_set.drop('new_cases' , axis = 1).values , test_set['new_cases'].values.reshape(-1,1)\n",
        "\n",
        "# print(X_train[:5])\n",
        "# print(Y_train[:5])\n",
        "# print(X_test[:5])\n",
        "# print(Y_test[:5])"
      ]
    },
    {
      "cell_type": "markdown",
      "metadata": {
        "id": "BJSFUnr980Yr"
      },
      "source": [
        "# Updated CART Decision Tree Model for Regression using Residual Sum of Squares"
      ]
    },
    {
      "cell_type": "markdown",
      "metadata": {
        "id": "UQ3h-B968R_h"
      },
      "source": [
        "### Node class for CART"
      ]
    },
    {
      "cell_type": "code",
      "execution_count": null,
      "metadata": {
        "id": "0OqvwMQd8R_h"
      },
      "outputs": [],
      "source": [
        "class Tree_Node():\n",
        "    def __init__(self, feature_index=None, threshold=None, left=None, right=None, min_rss=None, value=None):\n",
        "        ''' constructor ''' \n",
        "        \n",
        "        # for decision node\n",
        "        self.feature_index = feature_index\n",
        "        self.threshold = threshold\n",
        "        self.left = left\n",
        "        self.right = right\n",
        "        self.min_rss = min_rss\n",
        "        \n",
        "        # for leaf node\n",
        "        self.value = value"
      ]
    },
    {
      "cell_type": "markdown",
      "metadata": {
        "id": "g4LIp__a8R_j"
      },
      "source": [
        "### Tree class for CART"
      ]
    },
    {
      "cell_type": "code",
      "execution_count": null,
      "metadata": {
        "id": "PvLhpB5I8R_j"
      },
      "outputs": [],
      "source": [
        "class CART_DTR():\n",
        "    def __init__(self, min_samples_split=2, max_depth=2):\n",
        "              \n",
        "        # initialize the root of the tree \n",
        "        self.root = None\n",
        "        \n",
        "        # stopping conditions\n",
        "        self.min_samples_split = min_samples_split\n",
        "        self.max_depth = max_depth\n",
        "        \n",
        "    def build_tree(self, dataset, curr_depth=0):\n",
        "        \n",
        "        X, Y = dataset[:,:-1], dataset[:,-1]\n",
        "        num_samples, num_features = np.shape(X)\n",
        "        best_split = {}\n",
        "        \n",
        "        if num_samples>=self.min_samples_split and curr_depth<=self.max_depth:\n",
        "            \n",
        "            best_split = self.get_best_split(dataset, num_samples, num_features)\n",
        "            left_subtree = self.build_tree(best_split[\"dataset_left\"], curr_depth+1)\n",
        "        \n",
        "            right_subtree = self.build_tree(best_split[\"dataset_right\"], curr_depth+1)\n",
        "            return Tree_Node(best_split[\"feature_index\"], best_split[\"threshold\"], \n",
        "                        left_subtree, right_subtree, best_split[\"min_rss\"])\n",
        "    \n",
        "        # compute the mean for node to return when predicting the data\n",
        "        leaf_value = self.calculate_leaf_value(Y)\n",
        "        # return leaf node\n",
        "        return Tree_Node(value=leaf_value)\n",
        "\n",
        "    def average(self,col):\n",
        "      #Function to calculate the possible mean values of a Column\n",
        "      l1=[]\n",
        "      for i in range(len(col)-1):\n",
        "        l1.append((col[i]+col[i+1])/2)\n",
        "      return l1\n",
        "\n",
        "    def get_best_split(self, dataset, num_samples, num_features):\n",
        "              \n",
        "        # dictionary to store the best split\n",
        "        best_split = {}\n",
        "        min_rss = +float(\"inf\")\n",
        "        # print(num_features)\n",
        "        # loop over all the features\n",
        "        for feature_index in range(num_features):\n",
        "            feature_values = dataset[:, feature_index]\n",
        "            # calling to get the mean of two consecutive elements of a feature.\n",
        "            possible_thresholds_list=self.average(feature_values.tolist())\n",
        "            possible_thresholds = np.array(possible_thresholds_list)\n",
        "            # print(possible_thresholds)\n",
        "            # loop over all the feature values present in the data\n",
        "            for threshold in possible_thresholds:\n",
        "                # get current split\n",
        "                dataset_left, dataset_right = self.split(dataset, feature_index, threshold)\n",
        "                # check if childs are not null\n",
        "                if len(dataset_left)>0 and len(dataset_right)>0:\n",
        "                    y, left_y, right_y = dataset[:, -1], dataset_left[:, -1], dataset_right[:, -1]\n",
        "                    # compute  residual sum of square for both left and right datasets.\n",
        "                    rss_left = self.rss(left_y)\n",
        "                    rss_right=self.rss(right_y)\n",
        "                    curr_rss=rss_left+rss_right\n",
        "                    # update the best split to get the minimum rss out of each posssible thresholds for each feature column.\n",
        "                    if curr_rss<min_rss:\n",
        "                        best_split[\"feature_index\"] = feature_index\n",
        "                        best_split[\"threshold\"] = threshold\n",
        "                        best_split[\"dataset_left\"] = dataset_left\n",
        "                        best_split[\"dataset_right\"] = dataset_right\n",
        "                        best_split[\"min_rss\"] = curr_rss\n",
        "                        min_rss = curr_rss\n",
        "                        \n",
        "        return best_split\n",
        "    \n",
        "    def split(self, dataset, feature_index, threshold):\n",
        "        # ''' function to split the data '''\n",
        "        \n",
        "        dataset_left = np.array([row for row in dataset if row[feature_index]<=threshold])\n",
        "        dataset_right = np.array([row for row in dataset if row[feature_index]>threshold])\n",
        "        return dataset_left, dataset_right\n",
        "\n",
        "    def calculate_leaf_value(self, Y):\n",
        "        # ''' function to compute leaf node '''\n",
        "        val = np.mean(Y)\n",
        "        return val\n",
        "    \n",
        "    def fit(self, X, Y):\n",
        "        # ''' function to train the tree '''\n",
        "        \n",
        "        dataset = np.concatenate((X, Y), axis=1)\n",
        "        self.root = self.build_tree(dataset)\n",
        "        \n",
        "    def helper_predict(self, x, tree):\n",
        "        if tree.value!=None: return tree.value\n",
        "        feature_val = x[tree.feature_index]\n",
        "        if feature_val<=tree.threshold:\n",
        "            return self.helper_predict(x, tree.left)\n",
        "        else:\n",
        "            return self.helper_predict(x, tree.right)\n",
        "    \n",
        "    def predict(self, X):\n",
        "    # Function to make predictions        \n",
        "        predictions = [self.helper_predict(x, self.root) for x in X]\n",
        "        return predictions\n",
        "    def rss(self,X):\n",
        "      # Function to calculate the rss \n",
        "        mean_data=sum(X)\n",
        "        rss=0\n",
        "        for i in X:\n",
        "          rss+=(mean_data-i)**2\n",
        "        return rss"
      ]
    },
    {
      "cell_type": "markdown",
      "metadata": {
        "id": "DDoKJ-HD_BcI"
      },
      "source": [
        "# ID3-A for Regression using Standard Deviation"
      ]
    },
    {
      "cell_type": "code",
      "execution_count": null,
      "metadata": {
        "id": "nTp_jjVP_iMy"
      },
      "outputs": [],
      "source": [
        "class Node():\n",
        "    def __init__(self, feature_index=None, threshold=None, left=None, right=None, var_red=None, value=None):\n",
        "        \n",
        "        # for decision node\n",
        "        self.feature_index = feature_index\n",
        "        self.threshold = threshold\n",
        "        self.left = left\n",
        "        self.right = right\n",
        "        self.var_red = var_red\n",
        "        \n",
        "        # for leaf node\n",
        "        self.value = value"
      ]
    },
    {
      "cell_type": "code",
      "execution_count": null,
      "metadata": {
        "id": "tbtWob2Q_PfT"
      },
      "outputs": [],
      "source": [
        "class ID3_A_Regressor():\n",
        "    def __init__(self, min_samples_split=2, max_depth=2):\n",
        "        \n",
        "        # initialize the root of the tree \n",
        "        self.root = None\n",
        "        \n",
        "        # stopping conditions\n",
        "        self.min_samples_split = min_samples_split\n",
        "        self.max_depth = max_depth\n",
        "        \n",
        "    def build_tree(self, dataset, curr_depth=0):\n",
        "               \n",
        "        X, Y = dataset[:,:-1], dataset[:,-1]\n",
        "        num_samples, num_features = np.shape(X)\n",
        "        best_split = {}\n",
        "        # split until stopping conditions are met\n",
        "        if num_samples>=self.min_samples_split and curr_depth<=self.max_depth:\n",
        "            # find the best split\n",
        "            best_split = self.get_best_split(dataset, num_samples, num_features)\n",
        "            left_subtree = self.build_tree(best_split[\"dataset_left\"], curr_depth+1)\n",
        "            right_subtree = self.build_tree(best_split[\"dataset_right\"], curr_depth+1)\n",
        "            # creating the node for best split at this point in the tree\n",
        "            return Node(best_split[\"feature_index\"], best_split[\"threshold\"], \n",
        "                        left_subtree, right_subtree, best_split[\"var_red\"])\n",
        "        \n",
        "        # we are creating a leaf value for each Node, using the leaf_value we are creating our tree.\n",
        "        leaf_value = self.calculate_leaf_value(Y)\n",
        "        # return leaf node\n",
        "        return Node(value=leaf_value)\n",
        "    def average(self,col):\n",
        "      #Function to calculate the possible mean values of a Column\n",
        "      l1=[]\n",
        "      for i in range(len(col)-1):\n",
        "        l1.append((col[i]+col[i+1])/2)\n",
        "      return l1\n",
        "\n",
        "    def get_best_split(self, dataset, num_samples, num_features):\n",
        "             \n",
        "        # dictionary to store the best split\n",
        "        best_split = {}\n",
        "        max_var_red = -float(\"inf\")\n",
        "        # print(num_features)\n",
        "        # loop over all the features\n",
        "        for feature_index in range(num_features):\n",
        "            feature_values = dataset[:, feature_index]\n",
        "            possible_thresholds_list=self.average(feature_values.tolist())\n",
        "            possible_thresholds = np.array(possible_thresholds_list)\n",
        "            # print(possible_thres)\n",
        "            # loop over all the feature values present in the data\n",
        "            for threshold in possible_thresholds:\n",
        "  \n",
        "                dataset_left, dataset_right = self.split(dataset, feature_index, threshold)\n",
        "                # check if childs are not null\n",
        "                if len(dataset_left)>0 and len(dataset_right)>0:\n",
        "                    y, left_y, right_y = dataset[:, -1], dataset_left[:, -1], dataset_right[:, -1]\n",
        "  \n",
        "                    curr_var_red = self.var_reduction(y, left_y, right_y)\n",
        "                    if curr_var_red>max_var_red:\n",
        "                        best_split[\"feature_index\"] = feature_index\n",
        "                        best_split[\"threshold\"] = threshold\n",
        "                        best_split[\"dataset_left\"] = dataset_left\n",
        "                        best_split[\"dataset_right\"] = dataset_right\n",
        "                        best_split[\"var_red\"] = curr_var_red\n",
        "                        max_var_red = curr_var_red\n",
        "        return best_split\n",
        "    \n",
        "    def split(self, dataset, feature_index, threshold):       \n",
        "        dataset_left = np.array([row for row in dataset if row[feature_index]<=threshold])\n",
        "        dataset_right = np.array([row for row in dataset if row[feature_index]>threshold])\n",
        "        return dataset_left, dataset_right\n",
        "    \n",
        "    def var_reduction(self, parent, left, right):\n",
        "        \n",
        "        reduction = np.var(parent) - ((len(left) / len(parent)) * np.var(left) + (len(right) / len(parent)) * np.var(right))\n",
        "        return reduction\n",
        "    \n",
        "    def calculate_leaf_value(self, Y):\n",
        "        return  np.mean(Y)\n",
        "    def fit(self, X, Y):\n",
        "                \n",
        "        dataset = np.concatenate((X, Y), axis=1)\n",
        "        self.root = self.build_tree(dataset)\n",
        "\n",
        "    def make_prediction(self, x, tree):\n",
        "            \n",
        "        if tree.value!=None: return tree.value\n",
        "        feature_val = x[tree.feature_index]\n",
        "        if feature_val<=tree.threshold:\n",
        "            return self.make_prediction(x, tree.left)\n",
        "        else:\n",
        "            return self.make_prediction(x, tree.right)\n",
        "    \n",
        "    def predict(self, X):      \n",
        "        preditions = [self.make_prediction(x, self.root) for x in X]\n",
        "        return preditions"
      ]
    },
    {
      "cell_type": "markdown",
      "metadata": {
        "id": "9EXVIV2A8R_o"
      },
      "source": [
        "## Fitting the model for CART"
      ]
    },
    {
      "cell_type": "code",
      "execution_count": null,
      "metadata": {
        "id": "1rG5sMLh8R_o"
      },
      "outputs": [],
      "source": [
        "cart_regressor = CART_DTR(min_samples_split=2, max_depth=7)\n",
        "cart_regressor.fit(X_train,Y_train)"
      ]
    },
    {
      "cell_type": "markdown",
      "metadata": {
        "id": "L0wNdxs0_uXK"
      },
      "source": [
        "### Fitting the model for ID3-A"
      ]
    },
    {
      "cell_type": "code",
      "execution_count": null,
      "metadata": {
        "id": "ypekBqu__zF7"
      },
      "outputs": [],
      "source": [
        "id3_regressor = ID3_A_Regressor(min_samples_split=2, max_depth=4)\n",
        "id3_regressor.fit(X_train,Y_train)"
      ]
    },
    {
      "cell_type": "markdown",
      "metadata": {
        "id": "BJABwDab8R_o"
      },
      "source": [
        "## Testing the created models and calculating their r2score."
      ]
    },
    {
      "cell_type": "code",
      "execution_count": null,
      "metadata": {
        "id": "4IaAvnwkAu4k"
      },
      "outputs": [],
      "source": [
        "Y_pred_id3 = id3_regressor.predict(X_test) \n",
        "Y_pred_cart = cart_regressor.predict(X_test) "
      ]
    },
    {
      "cell_type": "code",
      "execution_count": null,
      "metadata": {
        "id": "KVbUvnzx8R_p"
      },
      "outputs": [],
      "source": [
        "Y_test=[i[0] for i in Y_test.tolist()]"
      ]
    },
    {
      "cell_type": "code",
      "execution_count": null,
      "metadata": {
        "id": "Q7YeIU32AzAC"
      },
      "outputs": [],
      "source": [
        "Y_test=np.array(Y_test)\n",
        "Y_pred_id3=np.array(Y_pred_id3)"
      ]
    },
    {
      "cell_type": "code",
      "execution_count": null,
      "metadata": {
        "id": "akgOplNCdIp1"
      },
      "outputs": [],
      "source": [
        "Y_pred_cart=np.array(Y_pred_cart)"
      ]
    },
    {
      "cell_type": "code",
      "execution_count": null,
      "metadata": {
        "id": "SYW4VKu0-zJB"
      },
      "outputs": [],
      "source": [
        "def r2Score(y_pred,y_actual):\n",
        "    sum_square_pred = np.sum((y_pred-y_actual)**2)\n",
        "    sum_squares_actual = np.sum((y_actual- y_actual.mean())**2)\n",
        "    score = (1- sum_square_pred/sum_squares_actual)\n",
        "    return score"
      ]
    },
    {
      "cell_type": "code",
      "execution_count": null,
      "metadata": {
        "colab": {
          "base_uri": "https://localhost:8080/"
        },
        "id": "FsjYpR3lYUpR",
        "outputId": "c900065e-30ad-43f8-d7bf-8e1c560db1e0"
      },
      "outputs": [
        {
          "output_type": "execute_result",
          "data": {
            "text/plain": [
              "0.946221976112327"
            ]
          },
          "metadata": {},
          "execution_count": 18
        }
      ],
      "source": [
        "score_id3=r2Score(Y_pred_id3, Y_test)\n",
        "score_id3"
      ]
    },
    {
      "cell_type": "code",
      "execution_count": null,
      "metadata": {
        "colab": {
          "base_uri": "https://localhost:8080/"
        },
        "id": "_62Sy__NYZp4",
        "outputId": "a5a24e74-ed00-4d14-9895-93b4878ea892"
      },
      "outputs": [
        {
          "output_type": "execute_result",
          "data": {
            "text/plain": [
              "0.9753145431319843"
            ]
          },
          "metadata": {},
          "execution_count": 19
        }
      ],
      "source": [
        "score_cart=r2Score(Y_pred_cart, Y_test)\n",
        "score_cart"
      ]
    },
    {
      "cell_type": "code",
      "execution_count": null,
      "metadata": {
        "id": "IbEdFFXOuHNz"
      },
      "outputs": [],
      "source": [
        "def rmse(prediction, target):\n",
        "    return np.sqrt(((prediction- target) ** 2).mean())"
      ]
    },
    {
      "cell_type": "markdown",
      "metadata": {
        "id": "F0x8lAfpuIQZ"
      },
      "source": [
        "# Tuning the Hyperparameters for obtaining the best model for the current dataset."
      ]
    },
    {
      "cell_type": "code",
      "execution_count": null,
      "metadata": {
        "id": "Lif96-ASuR5B"
      },
      "outputs": [],
      "source": [
        "min_samples_split=[5,10,15,20,25]\n",
        "max_depth=[4,5,6,7,8,9,10,11,12]\n",
        "dir=[]"
      ]
    },
    {
      "cell_type": "code",
      "execution_count": null,
      "metadata": {
        "id": "socqSITFuSvq"
      },
      "outputs": [],
      "source": [
        "for i in min_samples_split:\n",
        "  for j in max_depth:\n",
        "    l1={}\n",
        "    l1['min_samples_split']=i\n",
        "    l1['max_depth']=j\n",
        "    cart_regressor = CART_DTR(min_samples_split=i, max_depth=j)\n",
        "    cart_regressor.fit(X_train,Y_train)\n",
        "    id3_regressor = ID3_A_Regressor(min_samples_split=i, max_depth=j)\n",
        "    id3_regressor.fit(X_train,Y_train)\n",
        "    Y_pred_id3 = id3_regressor.predict(X_test) \n",
        "    Y_pred_cart = cart_regressor.predict(X_test) \n",
        "    Y_pred_cart=np.array(Y_pred_cart)\n",
        "    Y_pred_id3=np.array(Y_pred_id3)\n",
        "    score_id3=r2Score(Y_pred_id3, Y_test)\n",
        "    score_cart=r2Score(Y_pred_cart, Y_test)\n",
        "    # calculate the rmse for both ID3A and Cart predictions\n",
        "    rm_score_id3=rmse(Y_pred_id3,Y_test)\n",
        "    rm_score_cart=rmse(Y_pred_cart,Y_test)\n",
        "    l1['ID3-A-r2Score']=score_id3\n",
        "    l1['CART-r2Score']=score_cart\n",
        "    l1['ID3-A-rmse']=rm_score_id3\n",
        "    l1['CART-rmse']=rm_score_cart\n",
        "    dir.append(l1)"
      ]
    },
    {
      "cell_type": "code",
      "execution_count": null,
      "metadata": {
        "id": "zXprvdC2uTIM"
      },
      "outputs": [],
      "source": [
        "df=pd.DataFrame(dir)"
      ]
    },
    {
      "cell_type": "code",
      "execution_count": null,
      "metadata": {
        "id": "SVOMvD8JuTfg",
        "colab": {
          "base_uri": "https://localhost:8080/",
          "height": 1000
        },
        "outputId": "721746de-eea0-4d9a-a8d4-18a8c3dc6db8"
      },
      "outputs": [
        {
          "output_type": "execute_result",
          "data": {
            "text/plain": [
              "    min_samples_split  max_depth  ID3-A-r2Score  CART-r2Score    ID3-A-rmse  \\\n",
              "0                   5          4       0.946222      0.871868  15475.471263   \n",
              "1                   5          5       0.960985      0.937066  13181.283673   \n",
              "2                   5          6       0.961865      0.940014  13031.760133   \n",
              "3                   5          7       0.965520      0.941005  12391.447187   \n",
              "4                   5          8       0.965546      0.941008  12386.787773   \n",
              "5                   5          9       0.965332      0.941007  12425.223671   \n",
              "6                   5         10       0.965301      0.941007  12430.800438   \n",
              "7                   5         11       0.965356      0.941007  12421.001000   \n",
              "8                   5         12       0.965356      0.941007  12421.001000   \n",
              "9                  10          4       0.949797      0.850612  14952.218983   \n",
              "10                 10          5       0.964624      0.855286  12551.461795   \n",
              "11                 10          6       0.964953      0.856872  12493.020142   \n",
              "12                 10          7       0.968869      0.857347  11774.338535   \n",
              "13                 10          8       0.969674      0.857349  11621.071137   \n",
              "14                 10          9       0.969748      0.857349  11606.983549   \n",
              "15                 10         10       0.969566      0.857349  11641.876767   \n",
              "16                 10         11       0.969566      0.857349  11641.876767   \n",
              "17                 10         12       0.969566      0.857349  11641.876767   \n",
              "18                 15          4       0.952893      0.762747  14483.808817   \n",
              "19                 15          5       0.963752      0.764471  12705.187128   \n",
              "20                 15          6       0.964158      0.765094  12633.855865   \n",
              "21                 15          7       0.967854      0.765562  11964.869892   \n",
              "22                 15          8       0.968342      0.765562  11873.636098   \n",
              "23                 15          9       0.968455      0.765562  11852.380005   \n",
              "24                 15         10       0.968273      0.765562  11886.552879   \n",
              "25                 15         11       0.968273      0.765562  11886.552879   \n",
              "26                 15         12       0.968273      0.765562  11886.552879   \n",
              "27                 20          4       0.952734      0.707859  14508.219001   \n",
              "28                 20          5       0.963780      0.709296  12700.344317   \n",
              "29                 20          6       0.963641      0.709926  12724.656168   \n",
              "30                 20          7       0.967374      0.710392  12053.777375   \n",
              "31                 20          8       0.967406      0.710392  12047.840105   \n",
              "32                 20          9       0.967519      0.710392  12026.891901   \n",
              "33                 20         10       0.967519      0.710392  12026.891901   \n",
              "34                 20         11       0.967519      0.710392  12026.891901   \n",
              "35                 20         12       0.967519      0.710392  12026.891901   \n",
              "36                 25          4       0.925283      0.706315  18241.053307   \n",
              "37                 25          5       0.936329      0.706925  16838.834710   \n",
              "38                 25          6       0.935394      0.707555  16961.971190   \n",
              "39                 25          7       0.939014      0.708021  16479.958091   \n",
              "40                 25          8       0.939162      0.708021  16459.979612   \n",
              "41                 25          9       0.939162      0.708021  16459.979612   \n",
              "42                 25         10       0.939162      0.708021  16459.979612   \n",
              "43                 25         11       0.939162      0.708021  16459.979612   \n",
              "44                 25         12       0.939162      0.708021  16459.979612   \n",
              "\n",
              "       CART-rmse  \n",
              "0   23887.502412  \n",
              "1   16741.106670  \n",
              "2   16344.285521  \n",
              "3   16208.687901  \n",
              "4   16208.364532  \n",
              "5   16208.453250  \n",
              "6   16208.453266  \n",
              "7   16208.453273  \n",
              "8   16208.453277  \n",
              "9   25792.834922  \n",
              "10  25386.137347  \n",
              "11  25246.685796  \n",
              "12  25204.714892  \n",
              "13  25204.546884  \n",
              "14  25204.546845  \n",
              "15  25204.546853  \n",
              "16  25204.546858  \n",
              "17  25204.546860  \n",
              "18  32504.803446  \n",
              "19  32386.469711  \n",
              "20  32343.594148  \n",
              "21  32311.350145  \n",
              "22  32311.350126  \n",
              "23  32311.350096  \n",
              "24  32311.350102  \n",
              "25  32311.350106  \n",
              "26  32311.350106  \n",
              "27  36069.271524  \n",
              "28  35980.495542  \n",
              "29  35941.485835  \n",
              "30  35912.577102  \n",
              "31  35912.577085  \n",
              "32  35912.577058  \n",
              "33  35912.577058  \n",
              "34  35912.577058  \n",
              "35  35912.577058  \n",
              "36  36164.498375  \n",
              "37  36126.933330  \n",
              "38  36088.081916  \n",
              "39  36059.290710  \n",
              "40  36059.290693  \n",
              "41  36059.290693  \n",
              "42  36059.290693  \n",
              "43  36059.290693  \n",
              "44  36059.290693  "
            ],
            "text/html": [
              "\n",
              "  <div id=\"df-747525e1-bc75-4b5a-a334-8a106ff8997d\">\n",
              "    <div class=\"colab-df-container\">\n",
              "      <div>\n",
              "<style scoped>\n",
              "    .dataframe tbody tr th:only-of-type {\n",
              "        vertical-align: middle;\n",
              "    }\n",
              "\n",
              "    .dataframe tbody tr th {\n",
              "        vertical-align: top;\n",
              "    }\n",
              "\n",
              "    .dataframe thead th {\n",
              "        text-align: right;\n",
              "    }\n",
              "</style>\n",
              "<table border=\"1\" class=\"dataframe\">\n",
              "  <thead>\n",
              "    <tr style=\"text-align: right;\">\n",
              "      <th></th>\n",
              "      <th>min_samples_split</th>\n",
              "      <th>max_depth</th>\n",
              "      <th>ID3-A-r2Score</th>\n",
              "      <th>CART-r2Score</th>\n",
              "      <th>ID3-A-rmse</th>\n",
              "      <th>CART-rmse</th>\n",
              "    </tr>\n",
              "  </thead>\n",
              "  <tbody>\n",
              "    <tr>\n",
              "      <th>0</th>\n",
              "      <td>5</td>\n",
              "      <td>4</td>\n",
              "      <td>0.946222</td>\n",
              "      <td>0.871868</td>\n",
              "      <td>15475.471263</td>\n",
              "      <td>23887.502412</td>\n",
              "    </tr>\n",
              "    <tr>\n",
              "      <th>1</th>\n",
              "      <td>5</td>\n",
              "      <td>5</td>\n",
              "      <td>0.960985</td>\n",
              "      <td>0.937066</td>\n",
              "      <td>13181.283673</td>\n",
              "      <td>16741.106670</td>\n",
              "    </tr>\n",
              "    <tr>\n",
              "      <th>2</th>\n",
              "      <td>5</td>\n",
              "      <td>6</td>\n",
              "      <td>0.961865</td>\n",
              "      <td>0.940014</td>\n",
              "      <td>13031.760133</td>\n",
              "      <td>16344.285521</td>\n",
              "    </tr>\n",
              "    <tr>\n",
              "      <th>3</th>\n",
              "      <td>5</td>\n",
              "      <td>7</td>\n",
              "      <td>0.965520</td>\n",
              "      <td>0.941005</td>\n",
              "      <td>12391.447187</td>\n",
              "      <td>16208.687901</td>\n",
              "    </tr>\n",
              "    <tr>\n",
              "      <th>4</th>\n",
              "      <td>5</td>\n",
              "      <td>8</td>\n",
              "      <td>0.965546</td>\n",
              "      <td>0.941008</td>\n",
              "      <td>12386.787773</td>\n",
              "      <td>16208.364532</td>\n",
              "    </tr>\n",
              "    <tr>\n",
              "      <th>5</th>\n",
              "      <td>5</td>\n",
              "      <td>9</td>\n",
              "      <td>0.965332</td>\n",
              "      <td>0.941007</td>\n",
              "      <td>12425.223671</td>\n",
              "      <td>16208.453250</td>\n",
              "    </tr>\n",
              "    <tr>\n",
              "      <th>6</th>\n",
              "      <td>5</td>\n",
              "      <td>10</td>\n",
              "      <td>0.965301</td>\n",
              "      <td>0.941007</td>\n",
              "      <td>12430.800438</td>\n",
              "      <td>16208.453266</td>\n",
              "    </tr>\n",
              "    <tr>\n",
              "      <th>7</th>\n",
              "      <td>5</td>\n",
              "      <td>11</td>\n",
              "      <td>0.965356</td>\n",
              "      <td>0.941007</td>\n",
              "      <td>12421.001000</td>\n",
              "      <td>16208.453273</td>\n",
              "    </tr>\n",
              "    <tr>\n",
              "      <th>8</th>\n",
              "      <td>5</td>\n",
              "      <td>12</td>\n",
              "      <td>0.965356</td>\n",
              "      <td>0.941007</td>\n",
              "      <td>12421.001000</td>\n",
              "      <td>16208.453277</td>\n",
              "    </tr>\n",
              "    <tr>\n",
              "      <th>9</th>\n",
              "      <td>10</td>\n",
              "      <td>4</td>\n",
              "      <td>0.949797</td>\n",
              "      <td>0.850612</td>\n",
              "      <td>14952.218983</td>\n",
              "      <td>25792.834922</td>\n",
              "    </tr>\n",
              "    <tr>\n",
              "      <th>10</th>\n",
              "      <td>10</td>\n",
              "      <td>5</td>\n",
              "      <td>0.964624</td>\n",
              "      <td>0.855286</td>\n",
              "      <td>12551.461795</td>\n",
              "      <td>25386.137347</td>\n",
              "    </tr>\n",
              "    <tr>\n",
              "      <th>11</th>\n",
              "      <td>10</td>\n",
              "      <td>6</td>\n",
              "      <td>0.964953</td>\n",
              "      <td>0.856872</td>\n",
              "      <td>12493.020142</td>\n",
              "      <td>25246.685796</td>\n",
              "    </tr>\n",
              "    <tr>\n",
              "      <th>12</th>\n",
              "      <td>10</td>\n",
              "      <td>7</td>\n",
              "      <td>0.968869</td>\n",
              "      <td>0.857347</td>\n",
              "      <td>11774.338535</td>\n",
              "      <td>25204.714892</td>\n",
              "    </tr>\n",
              "    <tr>\n",
              "      <th>13</th>\n",
              "      <td>10</td>\n",
              "      <td>8</td>\n",
              "      <td>0.969674</td>\n",
              "      <td>0.857349</td>\n",
              "      <td>11621.071137</td>\n",
              "      <td>25204.546884</td>\n",
              "    </tr>\n",
              "    <tr>\n",
              "      <th>14</th>\n",
              "      <td>10</td>\n",
              "      <td>9</td>\n",
              "      <td>0.969748</td>\n",
              "      <td>0.857349</td>\n",
              "      <td>11606.983549</td>\n",
              "      <td>25204.546845</td>\n",
              "    </tr>\n",
              "    <tr>\n",
              "      <th>15</th>\n",
              "      <td>10</td>\n",
              "      <td>10</td>\n",
              "      <td>0.969566</td>\n",
              "      <td>0.857349</td>\n",
              "      <td>11641.876767</td>\n",
              "      <td>25204.546853</td>\n",
              "    </tr>\n",
              "    <tr>\n",
              "      <th>16</th>\n",
              "      <td>10</td>\n",
              "      <td>11</td>\n",
              "      <td>0.969566</td>\n",
              "      <td>0.857349</td>\n",
              "      <td>11641.876767</td>\n",
              "      <td>25204.546858</td>\n",
              "    </tr>\n",
              "    <tr>\n",
              "      <th>17</th>\n",
              "      <td>10</td>\n",
              "      <td>12</td>\n",
              "      <td>0.969566</td>\n",
              "      <td>0.857349</td>\n",
              "      <td>11641.876767</td>\n",
              "      <td>25204.546860</td>\n",
              "    </tr>\n",
              "    <tr>\n",
              "      <th>18</th>\n",
              "      <td>15</td>\n",
              "      <td>4</td>\n",
              "      <td>0.952893</td>\n",
              "      <td>0.762747</td>\n",
              "      <td>14483.808817</td>\n",
              "      <td>32504.803446</td>\n",
              "    </tr>\n",
              "    <tr>\n",
              "      <th>19</th>\n",
              "      <td>15</td>\n",
              "      <td>5</td>\n",
              "      <td>0.963752</td>\n",
              "      <td>0.764471</td>\n",
              "      <td>12705.187128</td>\n",
              "      <td>32386.469711</td>\n",
              "    </tr>\n",
              "    <tr>\n",
              "      <th>20</th>\n",
              "      <td>15</td>\n",
              "      <td>6</td>\n",
              "      <td>0.964158</td>\n",
              "      <td>0.765094</td>\n",
              "      <td>12633.855865</td>\n",
              "      <td>32343.594148</td>\n",
              "    </tr>\n",
              "    <tr>\n",
              "      <th>21</th>\n",
              "      <td>15</td>\n",
              "      <td>7</td>\n",
              "      <td>0.967854</td>\n",
              "      <td>0.765562</td>\n",
              "      <td>11964.869892</td>\n",
              "      <td>32311.350145</td>\n",
              "    </tr>\n",
              "    <tr>\n",
              "      <th>22</th>\n",
              "      <td>15</td>\n",
              "      <td>8</td>\n",
              "      <td>0.968342</td>\n",
              "      <td>0.765562</td>\n",
              "      <td>11873.636098</td>\n",
              "      <td>32311.350126</td>\n",
              "    </tr>\n",
              "    <tr>\n",
              "      <th>23</th>\n",
              "      <td>15</td>\n",
              "      <td>9</td>\n",
              "      <td>0.968455</td>\n",
              "      <td>0.765562</td>\n",
              "      <td>11852.380005</td>\n",
              "      <td>32311.350096</td>\n",
              "    </tr>\n",
              "    <tr>\n",
              "      <th>24</th>\n",
              "      <td>15</td>\n",
              "      <td>10</td>\n",
              "      <td>0.968273</td>\n",
              "      <td>0.765562</td>\n",
              "      <td>11886.552879</td>\n",
              "      <td>32311.350102</td>\n",
              "    </tr>\n",
              "    <tr>\n",
              "      <th>25</th>\n",
              "      <td>15</td>\n",
              "      <td>11</td>\n",
              "      <td>0.968273</td>\n",
              "      <td>0.765562</td>\n",
              "      <td>11886.552879</td>\n",
              "      <td>32311.350106</td>\n",
              "    </tr>\n",
              "    <tr>\n",
              "      <th>26</th>\n",
              "      <td>15</td>\n",
              "      <td>12</td>\n",
              "      <td>0.968273</td>\n",
              "      <td>0.765562</td>\n",
              "      <td>11886.552879</td>\n",
              "      <td>32311.350106</td>\n",
              "    </tr>\n",
              "    <tr>\n",
              "      <th>27</th>\n",
              "      <td>20</td>\n",
              "      <td>4</td>\n",
              "      <td>0.952734</td>\n",
              "      <td>0.707859</td>\n",
              "      <td>14508.219001</td>\n",
              "      <td>36069.271524</td>\n",
              "    </tr>\n",
              "    <tr>\n",
              "      <th>28</th>\n",
              "      <td>20</td>\n",
              "      <td>5</td>\n",
              "      <td>0.963780</td>\n",
              "      <td>0.709296</td>\n",
              "      <td>12700.344317</td>\n",
              "      <td>35980.495542</td>\n",
              "    </tr>\n",
              "    <tr>\n",
              "      <th>29</th>\n",
              "      <td>20</td>\n",
              "      <td>6</td>\n",
              "      <td>0.963641</td>\n",
              "      <td>0.709926</td>\n",
              "      <td>12724.656168</td>\n",
              "      <td>35941.485835</td>\n",
              "    </tr>\n",
              "    <tr>\n",
              "      <th>30</th>\n",
              "      <td>20</td>\n",
              "      <td>7</td>\n",
              "      <td>0.967374</td>\n",
              "      <td>0.710392</td>\n",
              "      <td>12053.777375</td>\n",
              "      <td>35912.577102</td>\n",
              "    </tr>\n",
              "    <tr>\n",
              "      <th>31</th>\n",
              "      <td>20</td>\n",
              "      <td>8</td>\n",
              "      <td>0.967406</td>\n",
              "      <td>0.710392</td>\n",
              "      <td>12047.840105</td>\n",
              "      <td>35912.577085</td>\n",
              "    </tr>\n",
              "    <tr>\n",
              "      <th>32</th>\n",
              "      <td>20</td>\n",
              "      <td>9</td>\n",
              "      <td>0.967519</td>\n",
              "      <td>0.710392</td>\n",
              "      <td>12026.891901</td>\n",
              "      <td>35912.577058</td>\n",
              "    </tr>\n",
              "    <tr>\n",
              "      <th>33</th>\n",
              "      <td>20</td>\n",
              "      <td>10</td>\n",
              "      <td>0.967519</td>\n",
              "      <td>0.710392</td>\n",
              "      <td>12026.891901</td>\n",
              "      <td>35912.577058</td>\n",
              "    </tr>\n",
              "    <tr>\n",
              "      <th>34</th>\n",
              "      <td>20</td>\n",
              "      <td>11</td>\n",
              "      <td>0.967519</td>\n",
              "      <td>0.710392</td>\n",
              "      <td>12026.891901</td>\n",
              "      <td>35912.577058</td>\n",
              "    </tr>\n",
              "    <tr>\n",
              "      <th>35</th>\n",
              "      <td>20</td>\n",
              "      <td>12</td>\n",
              "      <td>0.967519</td>\n",
              "      <td>0.710392</td>\n",
              "      <td>12026.891901</td>\n",
              "      <td>35912.577058</td>\n",
              "    </tr>\n",
              "    <tr>\n",
              "      <th>36</th>\n",
              "      <td>25</td>\n",
              "      <td>4</td>\n",
              "      <td>0.925283</td>\n",
              "      <td>0.706315</td>\n",
              "      <td>18241.053307</td>\n",
              "      <td>36164.498375</td>\n",
              "    </tr>\n",
              "    <tr>\n",
              "      <th>37</th>\n",
              "      <td>25</td>\n",
              "      <td>5</td>\n",
              "      <td>0.936329</td>\n",
              "      <td>0.706925</td>\n",
              "      <td>16838.834710</td>\n",
              "      <td>36126.933330</td>\n",
              "    </tr>\n",
              "    <tr>\n",
              "      <th>38</th>\n",
              "      <td>25</td>\n",
              "      <td>6</td>\n",
              "      <td>0.935394</td>\n",
              "      <td>0.707555</td>\n",
              "      <td>16961.971190</td>\n",
              "      <td>36088.081916</td>\n",
              "    </tr>\n",
              "    <tr>\n",
              "      <th>39</th>\n",
              "      <td>25</td>\n",
              "      <td>7</td>\n",
              "      <td>0.939014</td>\n",
              "      <td>0.708021</td>\n",
              "      <td>16479.958091</td>\n",
              "      <td>36059.290710</td>\n",
              "    </tr>\n",
              "    <tr>\n",
              "      <th>40</th>\n",
              "      <td>25</td>\n",
              "      <td>8</td>\n",
              "      <td>0.939162</td>\n",
              "      <td>0.708021</td>\n",
              "      <td>16459.979612</td>\n",
              "      <td>36059.290693</td>\n",
              "    </tr>\n",
              "    <tr>\n",
              "      <th>41</th>\n",
              "      <td>25</td>\n",
              "      <td>9</td>\n",
              "      <td>0.939162</td>\n",
              "      <td>0.708021</td>\n",
              "      <td>16459.979612</td>\n",
              "      <td>36059.290693</td>\n",
              "    </tr>\n",
              "    <tr>\n",
              "      <th>42</th>\n",
              "      <td>25</td>\n",
              "      <td>10</td>\n",
              "      <td>0.939162</td>\n",
              "      <td>0.708021</td>\n",
              "      <td>16459.979612</td>\n",
              "      <td>36059.290693</td>\n",
              "    </tr>\n",
              "    <tr>\n",
              "      <th>43</th>\n",
              "      <td>25</td>\n",
              "      <td>11</td>\n",
              "      <td>0.939162</td>\n",
              "      <td>0.708021</td>\n",
              "      <td>16459.979612</td>\n",
              "      <td>36059.290693</td>\n",
              "    </tr>\n",
              "    <tr>\n",
              "      <th>44</th>\n",
              "      <td>25</td>\n",
              "      <td>12</td>\n",
              "      <td>0.939162</td>\n",
              "      <td>0.708021</td>\n",
              "      <td>16459.979612</td>\n",
              "      <td>36059.290693</td>\n",
              "    </tr>\n",
              "  </tbody>\n",
              "</table>\n",
              "</div>\n",
              "      <button class=\"colab-df-convert\" onclick=\"convertToInteractive('df-747525e1-bc75-4b5a-a334-8a106ff8997d')\"\n",
              "              title=\"Convert this dataframe to an interactive table.\"\n",
              "              style=\"display:none;\">\n",
              "        \n",
              "  <svg xmlns=\"http://www.w3.org/2000/svg\" height=\"24px\"viewBox=\"0 0 24 24\"\n",
              "       width=\"24px\">\n",
              "    <path d=\"M0 0h24v24H0V0z\" fill=\"none\"/>\n",
              "    <path d=\"M18.56 5.44l.94 2.06.94-2.06 2.06-.94-2.06-.94-.94-2.06-.94 2.06-2.06.94zm-11 1L8.5 8.5l.94-2.06 2.06-.94-2.06-.94L8.5 2.5l-.94 2.06-2.06.94zm10 10l.94 2.06.94-2.06 2.06-.94-2.06-.94-.94-2.06-.94 2.06-2.06.94z\"/><path d=\"M17.41 7.96l-1.37-1.37c-.4-.4-.92-.59-1.43-.59-.52 0-1.04.2-1.43.59L10.3 9.45l-7.72 7.72c-.78.78-.78 2.05 0 2.83L4 21.41c.39.39.9.59 1.41.59.51 0 1.02-.2 1.41-.59l7.78-7.78 2.81-2.81c.8-.78.8-2.07 0-2.86zM5.41 20L4 18.59l7.72-7.72 1.47 1.35L5.41 20z\"/>\n",
              "  </svg>\n",
              "      </button>\n",
              "      \n",
              "  <style>\n",
              "    .colab-df-container {\n",
              "      display:flex;\n",
              "      flex-wrap:wrap;\n",
              "      gap: 12px;\n",
              "    }\n",
              "\n",
              "    .colab-df-convert {\n",
              "      background-color: #E8F0FE;\n",
              "      border: none;\n",
              "      border-radius: 50%;\n",
              "      cursor: pointer;\n",
              "      display: none;\n",
              "      fill: #1967D2;\n",
              "      height: 32px;\n",
              "      padding: 0 0 0 0;\n",
              "      width: 32px;\n",
              "    }\n",
              "\n",
              "    .colab-df-convert:hover {\n",
              "      background-color: #E2EBFA;\n",
              "      box-shadow: 0px 1px 2px rgba(60, 64, 67, 0.3), 0px 1px 3px 1px rgba(60, 64, 67, 0.15);\n",
              "      fill: #174EA6;\n",
              "    }\n",
              "\n",
              "    [theme=dark] .colab-df-convert {\n",
              "      background-color: #3B4455;\n",
              "      fill: #D2E3FC;\n",
              "    }\n",
              "\n",
              "    [theme=dark] .colab-df-convert:hover {\n",
              "      background-color: #434B5C;\n",
              "      box-shadow: 0px 1px 3px 1px rgba(0, 0, 0, 0.15);\n",
              "      filter: drop-shadow(0px 1px 2px rgba(0, 0, 0, 0.3));\n",
              "      fill: #FFFFFF;\n",
              "    }\n",
              "  </style>\n",
              "\n",
              "      <script>\n",
              "        const buttonEl =\n",
              "          document.querySelector('#df-747525e1-bc75-4b5a-a334-8a106ff8997d button.colab-df-convert');\n",
              "        buttonEl.style.display =\n",
              "          google.colab.kernel.accessAllowed ? 'block' : 'none';\n",
              "\n",
              "        async function convertToInteractive(key) {\n",
              "          const element = document.querySelector('#df-747525e1-bc75-4b5a-a334-8a106ff8997d');\n",
              "          const dataTable =\n",
              "            await google.colab.kernel.invokeFunction('convertToInteractive',\n",
              "                                                     [key], {});\n",
              "          if (!dataTable) return;\n",
              "\n",
              "          const docLinkHtml = 'Like what you see? Visit the ' +\n",
              "            '<a target=\"_blank\" href=https://colab.research.google.com/notebooks/data_table.ipynb>data table notebook</a>'\n",
              "            + ' to learn more about interactive tables.';\n",
              "          element.innerHTML = '';\n",
              "          dataTable['output_type'] = 'display_data';\n",
              "          await google.colab.output.renderOutput(dataTable, element);\n",
              "          const docLink = document.createElement('div');\n",
              "          docLink.innerHTML = docLinkHtml;\n",
              "          element.appendChild(docLink);\n",
              "        }\n",
              "      </script>\n",
              "    </div>\n",
              "  </div>\n",
              "  "
            ]
          },
          "metadata": {},
          "execution_count": 24
        }
      ],
      "source": [
        "df"
      ]
    },
    {
      "cell_type": "code",
      "execution_count": null,
      "metadata": {
        "id": "lXpuUb3C0p-q"
      },
      "outputs": [],
      "source": [
        "df1=df[df['ID3-A-r2Score'] == df['ID3-A-r2Score'].max()]"
      ]
    },
    {
      "cell_type": "code",
      "execution_count": null,
      "metadata": {
        "id": "IcJSFyjxknki"
      },
      "outputs": [],
      "source": [
        "p=df1['max_depth'].tolist()\n",
        "p1=df1['min_samples_split'].tolist()\n"
      ]
    },
    {
      "cell_type": "code",
      "execution_count": null,
      "metadata": {
        "id": "1PxUQ5ext3vK",
        "colab": {
          "base_uri": "https://localhost:8080/"
        },
        "outputId": "00775bf1-0c67-449f-eea0-05f1eb2891c4"
      },
      "outputs": [
        {
          "output_type": "execute_result",
          "data": {
            "text/plain": [
              "[10]"
            ]
          },
          "metadata": {},
          "execution_count": 27
        }
      ],
      "source": [
        "p1"
      ]
    },
    {
      "cell_type": "code",
      "execution_count": null,
      "metadata": {
        "id": "aG6VX2VgjxsQ"
      },
      "outputs": [],
      "source": [
        "df2=df[df['CART-r2Score'] == df['CART-r2Score'].max()]"
      ]
    },
    {
      "cell_type": "code",
      "execution_count": null,
      "metadata": {
        "id": "hojUcVqTomE3"
      },
      "outputs": [],
      "source": [
        "p2=df2['max_depth'].tolist()\n",
        "p3=df2['min_samples_split'].tolist()"
      ]
    },
    {
      "cell_type": "code",
      "execution_count": null,
      "metadata": {
        "id": "Ti0eEuqjk7bg",
        "colab": {
          "base_uri": "https://localhost:8080/",
          "height": 81
        },
        "outputId": "22925641-d24b-445b-e22a-b67ed8f9c0ad"
      },
      "outputs": [
        {
          "output_type": "execute_result",
          "data": {
            "text/plain": [
              "    min_samples_split  max_depth  ID3-A-r2Score  CART-r2Score    ID3-A-rmse  \\\n",
              "14                 10          9       0.969748      0.857349  11606.983549   \n",
              "\n",
              "       CART-rmse  \n",
              "14  25204.546845  "
            ],
            "text/html": [
              "\n",
              "  <div id=\"df-a3e29876-698d-4275-934a-843152cd7f3c\">\n",
              "    <div class=\"colab-df-container\">\n",
              "      <div>\n",
              "<style scoped>\n",
              "    .dataframe tbody tr th:only-of-type {\n",
              "        vertical-align: middle;\n",
              "    }\n",
              "\n",
              "    .dataframe tbody tr th {\n",
              "        vertical-align: top;\n",
              "    }\n",
              "\n",
              "    .dataframe thead th {\n",
              "        text-align: right;\n",
              "    }\n",
              "</style>\n",
              "<table border=\"1\" class=\"dataframe\">\n",
              "  <thead>\n",
              "    <tr style=\"text-align: right;\">\n",
              "      <th></th>\n",
              "      <th>min_samples_split</th>\n",
              "      <th>max_depth</th>\n",
              "      <th>ID3-A-r2Score</th>\n",
              "      <th>CART-r2Score</th>\n",
              "      <th>ID3-A-rmse</th>\n",
              "      <th>CART-rmse</th>\n",
              "    </tr>\n",
              "  </thead>\n",
              "  <tbody>\n",
              "    <tr>\n",
              "      <th>14</th>\n",
              "      <td>10</td>\n",
              "      <td>9</td>\n",
              "      <td>0.969748</td>\n",
              "      <td>0.857349</td>\n",
              "      <td>11606.983549</td>\n",
              "      <td>25204.546845</td>\n",
              "    </tr>\n",
              "  </tbody>\n",
              "</table>\n",
              "</div>\n",
              "      <button class=\"colab-df-convert\" onclick=\"convertToInteractive('df-a3e29876-698d-4275-934a-843152cd7f3c')\"\n",
              "              title=\"Convert this dataframe to an interactive table.\"\n",
              "              style=\"display:none;\">\n",
              "        \n",
              "  <svg xmlns=\"http://www.w3.org/2000/svg\" height=\"24px\"viewBox=\"0 0 24 24\"\n",
              "       width=\"24px\">\n",
              "    <path d=\"M0 0h24v24H0V0z\" fill=\"none\"/>\n",
              "    <path d=\"M18.56 5.44l.94 2.06.94-2.06 2.06-.94-2.06-.94-.94-2.06-.94 2.06-2.06.94zm-11 1L8.5 8.5l.94-2.06 2.06-.94-2.06-.94L8.5 2.5l-.94 2.06-2.06.94zm10 10l.94 2.06.94-2.06 2.06-.94-2.06-.94-.94-2.06-.94 2.06-2.06.94z\"/><path d=\"M17.41 7.96l-1.37-1.37c-.4-.4-.92-.59-1.43-.59-.52 0-1.04.2-1.43.59L10.3 9.45l-7.72 7.72c-.78.78-.78 2.05 0 2.83L4 21.41c.39.39.9.59 1.41.59.51 0 1.02-.2 1.41-.59l7.78-7.78 2.81-2.81c.8-.78.8-2.07 0-2.86zM5.41 20L4 18.59l7.72-7.72 1.47 1.35L5.41 20z\"/>\n",
              "  </svg>\n",
              "      </button>\n",
              "      \n",
              "  <style>\n",
              "    .colab-df-container {\n",
              "      display:flex;\n",
              "      flex-wrap:wrap;\n",
              "      gap: 12px;\n",
              "    }\n",
              "\n",
              "    .colab-df-convert {\n",
              "      background-color: #E8F0FE;\n",
              "      border: none;\n",
              "      border-radius: 50%;\n",
              "      cursor: pointer;\n",
              "      display: none;\n",
              "      fill: #1967D2;\n",
              "      height: 32px;\n",
              "      padding: 0 0 0 0;\n",
              "      width: 32px;\n",
              "    }\n",
              "\n",
              "    .colab-df-convert:hover {\n",
              "      background-color: #E2EBFA;\n",
              "      box-shadow: 0px 1px 2px rgba(60, 64, 67, 0.3), 0px 1px 3px 1px rgba(60, 64, 67, 0.15);\n",
              "      fill: #174EA6;\n",
              "    }\n",
              "\n",
              "    [theme=dark] .colab-df-convert {\n",
              "      background-color: #3B4455;\n",
              "      fill: #D2E3FC;\n",
              "    }\n",
              "\n",
              "    [theme=dark] .colab-df-convert:hover {\n",
              "      background-color: #434B5C;\n",
              "      box-shadow: 0px 1px 3px 1px rgba(0, 0, 0, 0.15);\n",
              "      filter: drop-shadow(0px 1px 2px rgba(0, 0, 0, 0.3));\n",
              "      fill: #FFFFFF;\n",
              "    }\n",
              "  </style>\n",
              "\n",
              "      <script>\n",
              "        const buttonEl =\n",
              "          document.querySelector('#df-a3e29876-698d-4275-934a-843152cd7f3c button.colab-df-convert');\n",
              "        buttonEl.style.display =\n",
              "          google.colab.kernel.accessAllowed ? 'block' : 'none';\n",
              "\n",
              "        async function convertToInteractive(key) {\n",
              "          const element = document.querySelector('#df-a3e29876-698d-4275-934a-843152cd7f3c');\n",
              "          const dataTable =\n",
              "            await google.colab.kernel.invokeFunction('convertToInteractive',\n",
              "                                                     [key], {});\n",
              "          if (!dataTable) return;\n",
              "\n",
              "          const docLinkHtml = 'Like what you see? Visit the ' +\n",
              "            '<a target=\"_blank\" href=https://colab.research.google.com/notebooks/data_table.ipynb>data table notebook</a>'\n",
              "            + ' to learn more about interactive tables.';\n",
              "          element.innerHTML = '';\n",
              "          dataTable['output_type'] = 'display_data';\n",
              "          await google.colab.output.renderOutput(dataTable, element);\n",
              "          const docLink = document.createElement('div');\n",
              "          docLink.innerHTML = docLinkHtml;\n",
              "          element.appendChild(docLink);\n",
              "        }\n",
              "      </script>\n",
              "    </div>\n",
              "  </div>\n",
              "  "
            ]
          },
          "metadata": {},
          "execution_count": 30
        }
      ],
      "source": [
        "df1"
      ]
    },
    {
      "cell_type": "markdown",
      "metadata": {
        "id": "AQy_-TIw0tzq"
      },
      "source": [
        "The above code works as hyperparameter tuning and finds the best hyperparameter for the model. We take r2 score as reference and note the value of min_sample_split and max_depth at which we have maximum value of it."
      ]
    },
    {
      "cell_type": "code",
      "execution_count": null,
      "metadata": {
        "id": "Vgq1w4CK1UgO"
      },
      "outputs": [],
      "source": [
        "cart_regressor = CART_DTR(min_samples_split=p3[0], max_depth=p2[0])\n",
        "cart_regressor.fit(X_train,Y_train)"
      ]
    },
    {
      "cell_type": "code",
      "execution_count": null,
      "metadata": {
        "id": "c-aJ5Q3T1npW"
      },
      "outputs": [],
      "source": [
        "id3_regressor = ID3_A_Regressor(min_samples_split=p1[0], max_depth=p[0])\n",
        "id3_regressor.fit(X_train,Y_train)"
      ]
    },
    {
      "cell_type": "code",
      "execution_count": null,
      "metadata": {
        "id": "dlibJ5bV15qG"
      },
      "outputs": [],
      "source": [
        "Y_pred_id3 = id3_regressor.predict(X_test) \n",
        "Y_pred_cart = cart_regressor.predict(X_test) \n",
        "Y_pred_cart=np.array(Y_pred_cart)\n",
        "Y_pred_id3=np.array(Y_pred_id3)\n",
        "score_id3=r2Score(Y_pred_id3, Y_test)\n",
        "score_cart=r2Score(Y_pred_cart, Y_test)\n",
        "# calculate the rmse for both ID3A and Cart predictions\n",
        "rm_score_id3=rmse(Y_pred_id3,Y_test)\n",
        "rm_score_cart=rmse(Y_pred_cart,Y_test)"
      ]
    },
    {
      "cell_type": "code",
      "execution_count": null,
      "metadata": {
        "colab": {
          "base_uri": "https://localhost:8080/"
        },
        "id": "S5Jad1YV18gE",
        "outputId": "686ffde0-e107-4545-9f77-982eb06caca6"
      },
      "outputs": [
        {
          "output_type": "execute_result",
          "data": {
            "text/plain": [
              "(0.969747880220882, 11606.983549112041)"
            ]
          },
          "metadata": {},
          "execution_count": 34
        }
      ],
      "source": [
        "\n",
        "score_id3,rm_score_id3"
      ]
    },
    {
      "cell_type": "code",
      "execution_count": null,
      "metadata": {
        "colab": {
          "base_uri": "https://localhost:8080/"
        },
        "id": "UWgX_6br2DlJ",
        "outputId": "44c1c8a8-d236-441b-d47e-86be906ae88a"
      },
      "outputs": [
        {
          "output_type": "execute_result",
          "data": {
            "text/plain": [
              "0.9410076815603954"
            ]
          },
          "metadata": {},
          "execution_count": 35
        }
      ],
      "source": [
        "score_cart"
      ]
    },
    {
      "cell_type": "markdown",
      "metadata": {
        "id": "MQvwA7prAZdC"
      },
      "source": [
        "# K-Means Clustering for classifying the dataset"
      ]
    },
    {
      "cell_type": "code",
      "source": [
        "shuffle_df = final_df.sample(frac=1,random_state=60)\n",
        "\n",
        "# Defining a size for train set \n",
        "train_size = int(0.8 * len(final_df))\n",
        "\n",
        "# Splitting dataset \n",
        "train_set = shuffle_df[:train_size]\n",
        "test_set = shuffle_df[train_size:]\n",
        "\n",
        "X_train , Y_train = train_set.drop('new_cases' , axis = 1).values , train_set['new_cases'].values.reshape(-1,1)\n",
        "X_test , Y_test = test_set.drop('new_cases' , axis = 1).values , test_set['new_cases'].values.reshape(-1,1)\n",
        "\n",
        "# print(X_train[:5])\n",
        "# print(Y_train[:5])\n",
        "# print(X_test[:5])\n",
        "# print(Y_test[:5])"
      ],
      "metadata": {
        "id": "_1ivRINZmUV6"
      },
      "execution_count": null,
      "outputs": []
    },
    {
      "cell_type": "code",
      "execution_count": null,
      "metadata": {
        "colab": {
          "base_uri": "https://localhost:8080/"
        },
        "id": "u-Lq711Aiu79",
        "outputId": "719f9431-324a-4c60-ee55-65b799144894"
      },
      "outputs": [
        {
          "output_type": "stream",
          "name": "stdout",
          "text": [
            "[[-26.571   9.571  11.714  -7.857 -13.571 -18.   ]\n",
            " [-34.429  10.857  15.143 -20.714 -23.714 -26.714]\n",
            " [-20.286  20.429   7.714  -5.143  -9.571 -13.714]\n",
            " [-24.     15.571   6.857  -8.571 -16.    -14.714]\n",
            " [-53.857 -12.143  21.857 -39.714 -39.286 -41.429]]\n"
          ]
        }
      ],
      "source": [
        "# Select any 3 random points and Make clusters on them\n",
        "random_indices = np.random.choice(X_train.shape[0], size=5, replace=False)\n",
        "centroids = X_train[random_indices, :]\n",
        "print(centroids)"
      ]
    },
    {
      "cell_type": "code",
      "source": [
        ""
      ],
      "metadata": {
        "id": "aeOSmqpJmT0s"
      },
      "execution_count": null,
      "outputs": []
    },
    {
      "cell_type": "code",
      "execution_count": null,
      "metadata": {
        "id": "moH-eCNQN0tu"
      },
      "outputs": [],
      "source": [
        "class Cluster_ID3():\n",
        "        \n",
        "    def __init__(self, k=5, max_iterations = 500):\n",
        "        self.k = k\n",
        "        self.max_iterations = max_iterations\n",
        "        self.clusters_train = {}\n",
        "        self.clusters_label = {}\n",
        "        self.root = {}\n",
        "    def euclidean_distance(self, point1, point2):\n",
        "        return np.linalg.norm(point1-point2, axis=0)\n",
        "\n",
        "    def train(self):\n",
        "        for i in range(self.k):\n",
        "            temp = ID3_A_Regressor(min_samples_split=5,max_depth=6)\n",
        "            temp.fit(X = self.clusters_train[i] , Y = self.clusters_label[i])\n",
        "            self.root[i] = temp\n",
        "\n",
        "    def make_clusters(self , X , y, centroids):\n",
        "        # Set the range for value of k (number of centroids)\n",
        "        for i in range(self.k):\n",
        "            self.clusters_train[i] = []\n",
        "            self.clusters_label[i] = []\n",
        "        for i in range(len(X)):\n",
        "            euc_dist = []\n",
        "            for j in range(self.k):\n",
        "                euc_dist.append(np.linalg.norm(X[i] - centroids[j]))\n",
        "            # Append the cluster of data to the dictionary\n",
        "            self.clusters_train[euc_dist.index(min(euc_dist))].append(X[i])\n",
        "            self.clusters_label[euc_dist.index(min(euc_dist))].append(y[i])\n",
        "\n",
        "    def predict(self, X):\n",
        "        y_pred = []\n",
        "        for i in range(len(X)):\n",
        "            euc_dist = []\n",
        "            for j in range(self.k):\n",
        "                euc_dist.append(np.linalg.norm(X[i] - centroids[j]))\n",
        "            idx = euc_dist.index(min(euc_dist))\n",
        "            # print(idx)\n",
        "            l = []\n",
        "            l.append(X[i])\n",
        "            y_pred.append(self.root[idx].predict(l))\n",
        "\n",
        "        return y_pred\n",
        "      \n",
        "    def fit(self, data):\n",
        "        self.centroids = {}\n",
        "        for i in range(self.k):\n",
        "            self.centroids[i] = data[i]\n",
        "  \n",
        "        for i in range(self.max_iterations):\n",
        "            self.classes = {}\n",
        "            for j in range(self.k):\n",
        "                self.classes[j] = []\n",
        "            for point in data:\n",
        "                distances = []\n",
        "                for index in self.centroids:\n",
        "                    distances.append(self.euclidean_distance(point,self.centroids[index]))\n",
        "                \n",
        "\n",
        "                cluster_index = distances.index(min(distances))\n",
        "                self.classes[cluster_index].append(point)\n",
        "      \n",
        "            for cluster_index in self.classes:\n",
        "                self.centroids[cluster_index] = np.average(self.classes[cluster_index], axis = 0)"
      ]
    },
    {
      "cell_type": "code",
      "execution_count": null,
      "metadata": {
        "id": "fwsUJSDARBLR"
      },
      "outputs": [],
      "source": [
        "model = Cluster_ID3()\n",
        "model.fit(X_train)\n",
        "model.make_clusters(X_train , Y_train , model.centroids)\n",
        "model.train()"
      ]
    },
    {
      "cell_type": "code",
      "source": [
        "print(model.clusters_train)"
      ],
      "metadata": {
        "id": "OAd90hkxfEEx",
        "colab": {
          "base_uri": "https://localhost:8080/"
        },
        "outputId": "1aedf335-c7b3-47b7-8ecd-261c58d4a994"
      },
      "execution_count": null,
      "outputs": [
        {
          "output_type": "stream",
          "name": "stdout",
          "text": [
            "{0: [array([-0.429,  1.   ,  0.   ,  0.714,  1.857,  4.571]), array([-1.   , -0.714,  0.143,  0.714,  2.429,  2.429]), array([-8.857, -3.429,  3.286, -6.571, -2.429, -8.143]), array([-0.286,  3.429,  0.286,  1.857,  1.857,  5.143]), array([-7.714, -0.143,  2.143, -4.714, -2.143, -3.   ]), array([-0.429,  0.429,  0.   ,  0.857,  1.857,  4.143]), array([-1.   , -0.571,  0.   ,  1.   ,  1.714,  3.857]), array([-3.571,  0.286,  2.286, -2.286,  0.714, -5.429]), array([-1.571, -0.857,  0.857,  0.   ,  2.857, -1.   ]), array([-8.714,  0.143,  2.571, -6.   , -2.714, -3.429]), array([-0.143,  4.143,  0.143,  2.286,  2.   ,  5.571]), array([-10.571,   0.143,   3.286,  -8.   ,  -4.   ,  -5.   ]), array([0.667, 1.667, 0.   , 2.   , 3.   , 3.   ]), array([0.5 , 1.75, 0.  , 2.  , 3.25, 3.  ]), array([-0.571,  0.143,  0.   ,  1.   ,  1.714,  4.   ]), array([-4.429, -0.143,  2.286, -3.286,  0.571, -6.857]), array([-0.143,  1.714,  0.714,  1.429,  3.571,  0.143]), array([-0.571,  2.429,  0.286,  1.143,  1.429,  5.286]), array([-0.429,  1.714,  0.143,  0.714,  1.857,  5.143]), array([0.5  , 2.   , 0.   , 2.333, 3.167, 3.333]), array([0.4, 1.8, 0.2, 1.8, 2.8, 3.2]), array([-0.571,  1.143,  0.857,  0.714,  3.714, -0.857]), array([-0.286,  4.714,  0.571,  1.429,  2.143,  3.143]), array([-7.857, -2.857,  3.286, -6.571, -1.714, -9.286]), array([-1.286,  0.   ,  1.   ,  0.286,  3.143, -0.857]), array([-2.857,  1.143,  2.143, -1.714,  1.143, -3.714]), array([-0.429,  2.286,  0.143,  0.857,  1.857,  5.286])], 1: [array([-21.   ,  16.286,   6.714,  -5.   , -10.571, -16.571]), array([-30.   ,  15.857,  13.571, -16.286, -19.571, -23.857]), array([-28.   ,   8.857,  11.571,  -8.571, -15.571, -12.286]), array([-26.857,  17.714,  11.143, -11.571, -15.857, -18.143]), array([-28.714,   9.143,  11.714,  -9.857, -18.   , -16.429]), array([-26.429,  11.143,  11.714,  -8.143, -15.429, -16.857]), array([-27.429,   9.429,  11.429,  -8.571, -14.857, -12.571]), array([-26.857,   5.143,  10.714, -15.143, -11.286, -20.286]), array([-22.857,  16.143,   6.857,  -7.571, -14.571, -15.429]), array([-21.143,  19.429,   7.143,  -5.143, -11.143, -11.286]), array([-21.857,  16.857,   6.714,  -6.857, -13.571, -15.429]), array([-21.   ,  16.429,   6.714,  -5.571, -10.857, -16.429]), array([-26.714,   9.571,  11.714,  -8.143, -14.429, -14.857]), array([-21.714,  18.286,   7.286,  -5.571, -11.286, -12.571]), array([-25.143,  14.   ,   7.286,  -9.857, -16.286, -15.143]), array([-21.429,  18.714,   7.857,  -5.143, -10.857, -12.286]), array([-25.571,  14.143,   7.286, -10.   , -16.429, -14.571]), array([-25.286,  19.857,  10.286,  -9.429, -14.286, -16.   ]), array([-28.143,   6.143,  10.286, -14.714, -13.143, -20.571]), array([-23.429,  15.857,   6.857,  -8.   , -15.571, -14.571]), array([-22.   ,  17.286,   7.286,  -5.714, -11.571, -13.   ]), array([-20.571,  19.857,   8.   ,  -5.429,  -9.429, -14.857]), array([-28.857,   2.571,   9.571, -16.571, -15.714, -18.571]), array([-25.286,  12.143,  10.857,  -9.   , -11.857, -12.143]), array([-22.143,  16.429,   7.286,  -5.714, -11.714, -13.429]), array([-25.857,   9.714,  11.571,  -7.857, -12.857, -16.857]), array([-28.571,   9.286,  11.714,  -9.571, -18.   , -15.286]), array([-21.   ,  20.571,   8.571,  -5.   , -11.429, -10.143]), array([-21.143,  19.143,   8.   ,  -5.286,  -9.571, -15.143]), array([-26.571,   9.714,  11.714,  -8.   , -14.571, -15.286]), array([-16.286,   0.   ,   4.714, -12.714,  -8.286,  -8.857]), array([-24.429,  19.857,  10.143,  -9.143, -13.286, -17.571]), array([-23.714,  19.143,   9.714,  -8.857, -13.286, -17.143]), array([-26.143,  13.143,   7.714, -10.429, -15.857, -14.286]), array([-20.857,  19.857,   7.286,  -5.143, -11.   , -11.429]), array([-28.143,   9.857,  11.714,  -9.143, -17.571, -14.571]), array([-21.714,  19.143,   8.   ,  -5.143, -11.286, -10.286]), array([-21.429,  18.857,   7.286,  -5.429, -11.143, -12.286]), array([-28.429,   9.429,  11.714,  -9.429, -17.857, -15.   ]), array([-22.   ,  16.286,   7.143,  -5.286, -11.714, -13.429]), array([-28.143,   9.571,  11.714,  -9.286, -17.714, -14.571]), array([-22.143,  16.   ,   7.   ,  -5.286, -11.857, -14.   ]), array([-28.   ,   9.143,   9.429, -16.857, -24.714, -21.   ]), array([-27.286,  10.714,  11.429,  -8.143, -17.   , -14.286]), array([-21.714,  19.571,   8.286,  -5.429, -11.571,  -9.571]), array([-21.   ,  16.714,   6.714,  -5.857, -11.429, -16.286]), array([-26.571,   9.571,  11.714,  -7.857, -13.571, -18.   ]), array([-25.714,  14.429,  10.714, -10.714, -14.857, -20.   ]), array([-28.857,   7.429,   9.286, -17.429, -19.857, -19.857]), array([-20.571,  20.   ,   7.429,  -5.   , -10.857, -11.429]), array([-26.   ,  11.143,  11.   ,  -9.   , -13.   , -12.143]), array([-26.857,   5.429,  10.571, -14.571, -10.857, -19.857]), array([-28.429,   9.143,  11.143,  -9.286, -17.143, -17.571]), array([-26.571,  10.429,  11.143,  -8.714, -14.   , -12.143]), array([-27.714,   8.286,  11.857,  -8.857, -14.571, -14.429]), array([-28.714,   7.571,  10.   , -12.   , -17.286, -19.857]), array([-26.714,   7.429,  10.143, -13.429, -11.   , -18.857]), array([-21.   ,  20.429,   8.429,  -5.   , -11.429,  -9.714]), array([-22.   ,  15.714,   6.857,  -5.143, -11.286, -15.   ]), array([-26.714,  13.429,  11.429, -12.857, -15.143, -22.857]), array([-26.571,  11.429,   8.429, -10.857, -14.286, -14.286]), array([-26.714,   9.857,  11.714,  -8.286, -14.429, -17.714]), array([-24.571,  15.714,  10.571,  -9.571, -14.   , -18.   ]), array([-20.143,  20.714,   7.286,  -4.571, -10.429, -11.286]), array([-28.714,   9.   ,  11.571,  -9.714, -17.714, -17.   ]), array([-26.286,  12.429,   8.143, -10.571, -15.   , -14.286]), array([-21.429,  19.286,   7.857,  -4.857, -11.   , -10.429]), array([-26.143,  10.429,  10.714, -11.286, -11.857, -16.714]), array([-28.143,   9.286,  10.571,  -9.286, -16.714, -18.143]), array([-27.857,   9.286,   9.286, -16.571, -22.571, -21.   ]), array([-24.857,  14.286,   7.   ,  -9.571, -16.714, -15.143]), array([-29.714,   1.286,   9.571, -17.714, -16.   , -20.571]), array([-21.714,  16.   ,   6.857,  -5.   , -11.   , -15.429]), array([-24.429,  14.857,   6.857,  -9.143, -16.571, -15.   ]), array([-28.714,  17.   ,  12.714, -14.714, -18.714, -20.857]), array([-20.286,  20.286,   7.429,  -4.857, -10.714, -11.286]), array([-21.286,  17.143,   6.714,  -6.286, -12.571, -15.571]), array([-26.571,   9.714,  11.714,  -8.   , -14.143, -17.857]), array([-27.286,   8.143,  10.571, -13.286, -12.429, -19.286]), array([-25.857,  13.857,   7.429, -10.143, -16.143, -14.429]), array([-21.857,  17.857,   7.286,  -5.571, -11.429, -12.857]), array([-30.571,  -0.143,   9.857, -18.857, -15.857, -23.714]), array([-21.429,  19.143,   8.   ,  -5.143, -10.857, -11.714]), array([-21.   ,  16.286,   6.714,  -4.714, -10.571, -15.429]), array([-26.143,  14.   ,  10.857, -11.286, -15.   , -20.714]), array([-20.857,  16.429,   6.714,  -5.143, -10.714, -16.429]), array([-22.   ,  16.143,   7.143,  -5.286, -11.857, -13.571]), array([-24.   ,  15.571,   6.857,  -8.571, -16.   , -14.714]), array([-25.714,  10.429,  11.714,  -7.714, -13.143, -17.857]), array([-22.   ,  16.286,   7.143,  -5.286, -11.714, -13.286]), array([-27.714,   9.429,   8.857, -16.   , -20.714, -19.714]), array([-27.857,   4.429,   9.857, -15.143, -14.286, -16.571]), array([-28.571,   7.714,   9.571, -12.857, -17.571, -20.429]), array([-24.   ,  19.714,   9.857,  -8.857, -13.   , -17.286]), array([-22.143,  16.286,   7.286,  -5.571, -11.714, -14.   ]), array([-28.286,   7.857,   9.143, -13.571, -17.857, -19.857]), array([-20.286,  20.429,   7.714,  -5.143,  -9.571, -13.714]), array([-22.   ,  17.   ,   7.286,  -5.714, -11.571, -13.143]), array([-27.286,   5.143,   9.857, -14.714, -13.286, -16.429]), array([-26.857,   5.571,  10.571, -14.286, -10.571, -19.857]), array([-29.143,   7.286,  10.571, -11.571, -17.571, -19.286]), array([-28.   ,  16.429,  11.714, -13.286, -17.286, -19.   ]), array([-25.286,  14.857,  10.714, -10.286, -14.571, -19.429]), array([-29.   ,   4.286,  10.   , -15.857, -14.143, -22.286]), array([-30.143,   1.286,   9.714, -17.857, -15.571, -23.714]), array([-26.286,  14.   ,  11.286, -12.143, -15.   , -23.   ]), array([-25.857,  10.   ,  11.429,  -7.714, -13.286, -16.   ]), array([-26.   ,  10.143,  11.714,  -7.857, -13.714, -16.   ]), array([-20.857,  19.571,   8.   ,  -5.143,  -9.429, -15.   ]), array([-20.714,  19.714,   8.   ,  -5.286,  -9.571, -14.857]), array([-25.857, -10.714,   7.286, -21.714, -15.714, -16.143]), array([-20.857,  21.429,   8.571,  -4.714, -11.429, -11.   ]), array([-20.429,  20.143,   7.714,  -5.143,  -9.571, -13.857]), array([-26.286,  10.   ,  11.714,  -7.857, -14.143, -15.571])], 2: [array([-25.286,  15.143,  10.   , -16.714, -36.   , -19.143]), array([-40.714,  -6.286,  12.857, -31.286, -46.   , -24.429]), array([-28.286,  10.143,  10.571, -18.571, -37.857, -19.571]), array([-44.429,  -4.   ,  11.714, -31.   , -47.   , -24.143]), array([-29.714,   8.286,  10.857, -19.286, -39.   , -21.857]), array([-32.   ,   9.714,  12.429, -19.   , -40.714, -20.   ]), array([-23.286,  19.143,   9.857, -15.   , -35.   , -20.   ]), array([-40.571,  -1.286,  14.857, -26.   , -43.286, -26.143]), array([-29.   ,   7.571,   9.714, -17.714, -32.   , -24.286]), array([-33.857,   7.714,  13.   , -21.143, -42.143, -20.429]), array([-29.857,   8.   ,  10.429, -18.714, -39.143, -22.429]), array([-24.   ,  19.286,  10.714, -15.714, -34.857, -24.429]), array([-39.571,  -6.714,  14.143, -30.571, -44.857, -23.   ]), array([-43.   ,   0.286,  18.143, -28.857, -32.   , -31.286]), array([-30.286,  10.143,  10.714, -17.714, -38.143, -24.571]), array([-33.   ,  12.286,  14.571, -19.429, -22.286, -26.286]), array([-34.429,  10.857,  15.143, -20.714, -23.714, -26.714]), array([-36.286,   3.857,  12.286, -23.714, -43.429, -22.143]), array([-28.143,   9.   ,   9.429, -17.   , -28.143, -22.286]), array([-30.143,   8.429,  10.143, -18.143, -37.857, -26.286]), array([-40.571,  -6.286,  14.857, -29.429, -44.286, -22.714]), array([-32.429,   9.429,  12.857, -19.429, -41.143, -20.   ]), array([-40.143,  -0.429,  14.   , -25.571, -43.714, -26.429]), array([-30.429,   7.   ,  11.   , -19.   , -32.286, -33.857]), array([-35.857,   4.143,  12.571, -23.714, -43.143, -21.857]), array([-39.143,  -6.   ,  13.429, -30.714, -45.286, -22.714]), array([-42.429,  -4.857,  12.   , -30.714, -46.143, -24.429]), array([-33.   ,   9.   ,  13.   , -20.   , -41.429, -20.143]), array([-30.286,   7.429,  10.286, -18.714, -39.143, -22.714]), array([-39.286,   1.286,  12.429, -24.714, -44.571, -27.714]), array([-27.286,  13.286,  10.714, -17.143, -32.571, -33.286]), array([-33.429,   8.429,  13.143, -20.571, -41.714, -20.286]), array([-34.429,   7.143,  13.   , -21.857, -42.429, -20.857]), array([-31.571,   9.714,  12.   , -18.571, -40.286, -20.571]), array([-41.143,  -5.571,  15.571, -28.143, -43.   , -23.143]), array([-44.429,  -1.143,  18.714, -30.429, -33.143, -32.857]), array([-32.429, -14.857,   9.714, -28.286, -20.571, -22.714]), array([-29.857,  10.   ,  10.   , -17.286, -37.571, -25.286]), array([-36.714,   3.714,  11.571, -23.571, -44.   , -23.143]), array([-28.   ,   9.143,   9.571, -17.   , -26.429, -21.714]), array([-29.143,   7.857,   9.714, -17.714, -33.   , -23.143]), array([-39.857,  -6.   ,  14.429, -29.714, -44.429, -22.571]), array([-29.   ,   8.   ,   9.571, -16.857, -31.143, -28.143]), array([-28.857,   7.857,   9.571, -17.571, -30.143, -23.429]), array([-29.429,   7.571,   9.857, -17.571, -32.714, -24.286]), array([-30.571,   7.143,  10.143, -18.857, -38.286, -25.286]), array([-41.857,  -4.857,  16.143, -27.286, -42.571, -23.   ]), array([-37.429,   3.286,  10.857, -23.429, -44.571, -24.143]), array([-41.571,  -4.   ,  15.857, -26.714, -42.714, -23.   ]), array([-29.286,   7.714,   9.714, -17.714, -33.143, -23.571]), array([-40.   ,  -5.571,  13.   , -30.857, -45.714, -23.857]), array([-38.429,   5.714,  16.571, -24.286, -27.286, -29.857]), array([-43.143,  -5.143,  12.   , -31.143, -46.571, -25.   ]), array([-30.   ,   6.286,  10.   , -18.143, -31.714, -30.286]), array([-35.286,   4.714,  12.857, -23.286, -42.857, -21.714]), array([-26.   ,  15.429,  11.143, -17.143, -33.857, -31.   ]), array([-30.857,  10.286,  11.571, -18.   , -39.429, -21.857]), array([-42.   ,  -5.429,  12.286, -30.857, -46.143, -24.286]), array([-28.571,  10.857,  10.857, -17.714, -32.286, -33.857]), array([-27.714,  10.857,  10.571, -18.714, -37.286, -19.429]), array([-26.571,  14.571,  10.857, -17.   , -33.143, -32.286]), array([-41.286,  -3.   ,  15.143, -26.143, -43.286, -23.286]), array([-30.429,   7.143,  10.286, -19.   , -38.571, -24.571]), array([-41.   ,  -6.   ,  15.286, -29.   , -43.857, -23.   ]), array([-28.571,   9.143,   9.571, -16.571, -32.143, -23.857]), array([-28.857,   9.429,  10.571, -18.714, -38.286, -20.   ]), array([-29.571,   7.286,   9.714, -17.714, -33.   , -23.857]), array([-39.429,  -5.714,  13.286, -30.714, -45.429, -22.571]), array([-38.286,   2.857,  11.286, -24.   , -45.   , -27.857]), array([-28.429,   9.429,   9.429, -16.286, -31.857, -24.   ]), array([-28.571,   9.143,   9.286, -16.286, -31.571, -25.   ])], 3: [array([-65.429, -28.   ,  25.571, -52.143, -45.   , -51.143]), array([-72.571, -58.286,  26.571, -68.286, -49.571, -63.143]), array([-65.714, -28.857,  25.571, -52.571, -45.   , -51.429]), array([-66.286, -49.571,  23.571, -61.429, -45.143, -56.286]), array([-85.714, -46.714,  28.429, -66.   , -63.571, -59.714]), array([-76.429, -64.143,  28.571, -73.   , -52.429, -65.143]), array([-81.286, -35.571,  25.429, -59.429, -61.286, -52.143]), array([-65.857, -30.286,  25.571, -53.286, -45.143, -50.857]), array([-85.143, -45.714,  28.286, -65.429, -62.857, -58.714]), array([-76.143, -24.714,  21.571, -52.429, -57.857, -43.571]), array([-82.143, -37.714,  26.   , -60.714, -61.714, -53.857]), array([-78.286, -55.143,  28.714, -68.714, -49.429, -63.857]), array([-64.429, -26.143,  25.429, -50.857, -44.857, -50.429]), array([-82.429, -49.429,  28.714, -66.571, -56.714, -61.571]), array([-77.143, -59.   ,  28.   , -70.429, -50.286, -63.   ]), array([-85.571, -46.714,  28.429, -66.143, -63.429, -59.286]), array([-79.571, -52.429,  29.143, -67.714, -51.   , -63.   ]), array([-76.143, -63.714,  28.143, -73.   , -52.   , -63.429]), array([-72.429, -56.714,  26.714, -68.429, -49.429, -62.857]), array([-79.286, -30.857,  24.286, -56.429, -60.   , -49.286]), array([-80.143, -32.857,  24.857, -57.714, -60.714, -50.714]), array([-82.857, -39.429,  26.429, -61.714, -61.857, -54.571]), array([-65.429, -29.714,  25.286, -53.   , -44.857, -49.286]), array([-77.429, -26.857,  22.429, -53.714, -58.286, -45.143]), array([-78.571, -53.714,  28.857, -68.143, -49.143, -63.571]), array([-85.143, -45.857,  28.286, -65.571, -63.   , -58.571]), array([-84.286, -43.   ,  27.286, -63.857, -62.286, -56.571]), array([-65.   , -29.286,  25.286, -52.714, -44.714, -48.714]), array([-84.857, -44.714,  27.857, -64.714, -62.571, -57.429]), array([-85.857, -47.286,  28.286, -66.143, -63.714, -59.857]), array([-77.857, -27.857,  22.714, -54.286, -58.571, -45.857]), array([-77.571, -57.714,  28.286, -69.857, -49.857, -63.286]), array([-78.571, -53.857,  29.143, -68.143, -49.286, -63.429]), array([-80.429, -51.   ,  29.   , -67.143, -52.714, -62.429]), array([-76.286, -63.857,  28.429, -73.   , -52.286, -64.714]), array([-85.714, -46.857,  28.429, -66.143, -63.571, -59.571]), array([-78.571, -54.   ,  29.143, -68.429, -49.286, -63.857]), array([-85.857, -47.143,  28.429, -66.   , -63.286, -60.143]), array([-83.714, -41.429,  27.   , -62.857, -62.143, -55.571]), array([-78.714, -29.714,  23.571, -55.571, -59.429, -47.571]), array([-75.429, -24.   ,  21.286, -51.857, -57.714, -42.857]), array([-65.286, -27.571,  25.714, -52.   , -45.143, -51.143]), array([-75.571, -61.857,  28.143, -71.571, -51.714, -65.429]), array([-78.   , -56.429,  28.571, -69.286, -49.714, -63.714]), array([-85.   , -45.429,  28.   , -65.143, -62.714, -58.   ]), array([-76.143, -63.714,  28.143, -72.857, -51.857, -63.429]), array([-65.714, -29.571,  25.571, -52.857, -45.143, -51.286]), array([-58.429, -40.286,  20.143, -53.571, -39.571, -48.429])], 4: [array([-58.429,  -3.   ,  14.571, -38.571, -51.   , -30.571]), array([-58.429,  -3.   ,  14.429, -38.571, -51.   , -30.286]), array([-67.143,  -8.571,  16.571, -42.143, -55.143, -32.143]), array([-49.857,  -7.857,  20.571, -36.   , -37.   , -38.429]), array([-51.143, -11.714,  13.143, -39.143, -53.429, -29.286]), array([-61.   , -13.714,  16.571, -43.286, -52.   , -32.714]), array([-50.857, -11.857,  13.286, -38.714, -52.714, -30.143]), array([-58.143,  -4.429,  14.571, -40.286, -50.429, -30.571]), array([-51.   , -11.714,  13.429, -39.143, -53.143, -31.143]), array([-50.571, -11.143,  13.   , -38.   , -52.429, -29.   ]), array([-63.429, -26.571,  24.714, -50.571, -43.429, -47.   ]), array([-49.857, -31.   ,  16.571, -45.143, -33.286, -40.   ]), array([-57.857,  -3.571,  14.286, -39.286, -50.429, -30.   ]), array([-60.857, -22.286,  24.143, -46.571, -44.143, -47.714]), array([-60.571, -13.571,  16.571, -42.857, -51.571, -32.714]), array([-66.143,  -7.429,  16.286, -41.286, -54.857, -31.571]), array([-58.571,   0.   ,  14.571, -36.714, -51.286, -29.714]), array([-44.429,  -5.143,  11.857, -31.429, -47.   , -24.571]), array([-59.286, -11.714,  16.   , -41.143, -50.571, -31.857]), array([-61.286, -13.714,  16.714, -43.429, -51.857, -32.714]), array([-55.   , -11.   ,  14.   , -40.   , -51.143, -33.286]), array([-46.286,  -6.571,  12.143, -33.286, -48.143, -25.   ]), array([-63.   , -24.286,  24.857, -49.   , -44.857, -47.571]), array([-58.286,  -2.714,  14.571, -38.429, -51.   , -30.571]), array([-50.857,  -8.857,  20.857, -36.857, -37.571, -39.286]), array([-58.571,  -3.143,  14.429, -38.571, -51.   , -30.143]), array([-59.429, -20.286,  23.714, -45.286, -43.429, -47.   ]), array([-59.   ,  -7.429,  15.286, -41.571, -51.143, -31.429]), array([-58.429,  -3.143,  14.143, -38.571, -50.714, -30.429]), array([-54.571, -13.   ,  22.286, -40.571, -39.857, -43.   ]), array([-58.   ,  -1.286,  14.   , -37.429, -50.714, -29.571]), array([-50.429, -10.571,  13.   , -37.571, -52.429, -29.   ]), array([-49.571, -10.143,  12.571, -35.714, -50.714, -26.714]), array([-50.429, -10.429,  12.857, -37.143, -52.429, -27.857]), array([-60.714, -13.714,  16.571, -43.143, -51.714, -32.857]), array([-58.857, -11.143,  16.   , -40.857, -50.429, -32.143]), array([-58.   ,  -3.571,  14.286, -39.143, -50.429, -30.429]), array([-49.714, -10.   ,  12.714, -35.857, -51.143, -27.143]), array([-60.857, -22.   ,  24.   , -46.571, -44.   , -46.714]), array([-48.571,  -8.571,  12.143, -34.714, -49.857, -24.714]), array([-49.   ,  -9.286,  12.143, -35.143, -50.286, -25.   ]), array([-60.   ,  -9.571,  16.   , -42.429, -51.571, -32.143]), array([-52.   , -10.   ,  21.   , -37.857, -38.143, -39.429]), array([-48.429,  -9.143,  12.286, -34.857, -49.286, -25.571]), array([-63.571,  -4.429,  15.429, -39.429, -53.714, -30.429]), array([-58.   ,  -0.857,  14.286, -37.286, -50.714, -30.143]), array([-51.714, -11.714,  13.   , -39.429, -53.571, -29.286]), array([-46.429,  -3.714,  19.429, -32.143, -34.571, -35.286]), array([-51.571, -11.857,  13.   , -39.429, -53.429, -29.286]), array([-47.143,  -7.714,  12.286, -34.   , -48.571, -25.571]), array([-58.286,   0.143,  14.429, -36.714, -50.857, -29.714]), array([-53.429, -13.143,  13.143, -40.286, -53.571, -29.286]), array([-48.143,  -9.   ,  12.286, -34.714, -49.   , -25.714]), array([-56.143, -15.571,  22.714, -42.286, -41.286, -44.429]), array([-60.714, -11.286,  16.286, -42.857, -51.571, -32.   ]), array([-58.571,  -2.714,  14.286, -38.286, -50.714, -30.571]), array([-58.286, -18.714,  23.429, -44.286, -42.714, -46.286]), array([-45.   ,  -4.857,  12.   , -32.143, -47.714, -24.714]), array([-71.286, -17.857,  19.143, -47.714, -56.286, -39.286]), array([-54.714, -13.714,  13.571, -40.714, -52.714, -31.714]), array([-56.429,  -7.714,  14.857, -39.286, -49.   , -34.286]), array([-60.286, -10.429,  16.143, -42.714, -51.571, -32.286]), array([-48.571,  -6.286,  20.143, -34.429, -36.   , -37.   ]), array([-51.   , -12.   ,  13.429, -39.   , -53.   , -30.857]), array([-62.143, -25.429,  24.429, -49.429, -41.857, -46.   ]), array([-60.143, -23.429,  23.286, -48.286, -38.   , -43.429]), array([-47.571,  -8.143,  12.286, -34.286, -48.714, -25.571]), array([-58.286,  -2.857,  14.571, -38.571, -51.   , -30.571]), array([-59.714,  -8.714,  15.714, -42.143, -51.429, -31.857]), array([-61.   , -13.286,  16.571, -43.143, -51.857, -32.571]), array([-62.286, -23.714,  24.571, -48.143, -44.714, -47.   ]), array([-57.286, -17.143,  23.143, -43.429, -42.   , -45.429]), array([-49.857, -10.   ,  12.714, -36.   , -51.571, -27.429]), array([-54.571, -11.857,  13.714, -40.286, -52.   , -32.286]), array([-58.286,  -2.   ,  14.286, -38.   , -50.714, -30.714]), array([-58.429,  -3.429,  14.143, -38.857, -50.571, -30.429]), array([-51.143, -11.857,  13.429, -39.143, -53.143, -31.143]), array([-58.286,  -5.143,  14.857, -40.571, -50.571, -30.429]), array([-45.286,  -5.143,  12.   , -32.286, -47.714, -24.857]), array([-73.   , -20.714,  20.   , -49.429, -57.286, -40.286]), array([-60.714,  -2.143,  14.857, -37.857, -52.429, -29.286]), array([-56.857,  -7.857,  15.286, -39.286, -49.571, -32.143]), array([-69.143, -13.   ,  17.714, -44.714, -55.571, -34.143]), array([-58.714,  -3.143,  14.714, -38.714, -50.857, -31.   ]), array([-50.   , -10.143,  12.857, -36.286, -51.714, -27.714]), array([-61.143, -12.857,  16.571, -43.286, -51.714, -32.571]), array([-68.429, -11.286,  17.286, -43.857, -55.429, -33.429]), array([-43.857,  -5.286,  12.   , -31.429, -46.857, -25.286]), array([-61.143, -24.714,  23.714, -49.   , -39.143, -44.286]), array([-62.857, -26.   ,  24.571, -50.   , -42.857, -46.286]), array([-56.   ,  -8.857,  14.714, -39.714, -49.714, -34.143]), array([-48.571,  -9.286,  12.286, -35.   , -49.714, -25.143]), array([-50.429, -10.857,  12.857, -37.714, -52.429, -28.857]), array([-71.714, -18.714,  19.429, -48.143, -56.571, -39.857]), array([-70.857, -16.857,  18.857, -47.286, -56.   , -38.714]), array([-61.714,  -3.   ,  15.   , -38.286, -53.   , -29.571]), array([-61.286, -24.429,  23.714, -48.714, -40.   , -44.571]), array([-53.857, -12.143,  21.857, -39.714, -39.286, -41.429]), array([-58.429,  -5.571,  14.857, -40.714, -50.857, -30.286]), array([-60.714, -13.286,  16.429, -43.   , -51.714, -32.429]), array([-60.714, -11.571,  16.286, -42.857, -51.571, -32.143]), array([-60.   , -13.429,  16.286, -42.   , -51.143, -32.286]), array([-74.714, -23.   ,  21.   , -51.143, -57.571, -42.143]), array([-58.143,  -3.429,  14.143, -39.   , -50.429, -30.429]), array([-52.429, -12.857,  13.   , -40.   , -54.   , -29.   ]), array([-67.857, -10.   ,  17.   , -43.143, -55.286, -32.857]), array([-58.714, -21.143,  22.714, -47.   , -36.571, -42.429]), array([-44.714,  -4.286,  11.857, -31.714, -47.571, -24.286]), array([-40.571, -21.714,  12.857, -36.143, -26.571, -30.857]), array([-54.857, -13.429,  22.286, -41.143, -40.286, -43.429]), array([-58.286,  -4.714,  14.714, -40.429, -50.429, -30.571]), array([-50.286, -10.286,  12.857, -36.571, -51.857, -27.714]), array([-59.286,  -7.857,  15.429, -41.857, -51.286, -31.571]), array([-55.571, -10.286,  14.571, -40.   , -50.571, -34.   ]), array([-60.   ,  -1.   ,  14.571, -37.429, -52.143, -29.143]), array([-61.714, -25.   ,  24.143, -49.143, -41.   , -45.429])]}\n"
          ]
        }
      ]
    },
    {
      "cell_type": "markdown",
      "metadata": {
        "id": "kzEt7gi-U76V"
      },
      "source": [
        "# Predicting new_cases using ID3-A after clustering the datapoints."
      ]
    },
    {
      "cell_type": "code",
      "execution_count": null,
      "metadata": {
        "colab": {
          "base_uri": "https://localhost:8080/"
        },
        "id": "QQcvFANzRBH1",
        "outputId": "021ed9de-49c6-4ea9-b389-79bfe5a0ceab"
      },
      "outputs": [
        {
          "output_type": "stream",
          "name": "stdout",
          "text": [
            "[[62905.0], [7933.0], [36892.5], [33690.666666666664], [6198.0], [33690.666666666664], [196427.0], [8442.0], [192555.5], [38.0], [391263.0], [87948.0], [7933.0], [36892.5], [28347.0], [70.0], [6198.0], [36892.5], [54773.0], [346658.0], [36892.5], [14348.25], [378907.75], [8442.0], [54773.0], [33690.666666666664], [33690.666666666664], [28347.0], [196427.0], [33690.666666666664], [23294.333333333332], [38.0], [38.0], [183657.0], [6198.0], [6198.0], [37740.0], [38.0], [9453.5], [6198.0], [6198.0], [11033.0], [6198.0], [38.0], [33690.666666666664], [6198.0], [36892.5], [6198.0], [36892.5], [14348.25], [70.0], [17563.8], [6198.0], [38.0], [192555.5], [38.0], [38.0], [192555.5], [38.0], [38.0], [28347.0], [192555.5], [192555.5], [14959.5], [378907.75], [6198.0], [346658.0], [70.0], [14348.25], [37740.0], [346658.0], [70.0], [68206.5], [192555.5], [14348.25], [378907.75], [38.0], [38.0], [6198.0], [11033.0], [6198.0], [54746.75], [33690.666666666664], [346658.0], [48507.6], [54773.0], [36892.5], [14959.5], [6198.0], [6198.0], [36892.5], [36892.5], [6198.0], [6198.0], [95971.0]]\n"
          ]
        }
      ],
      "source": [
        "Y_pred_K_ID3 = model.predict(X_test)\n",
        "print(Y_pred_K_ID3)"
      ]
    },
    {
      "cell_type": "code",
      "execution_count": null,
      "metadata": {
        "id": "-R7FqVsXUWZE"
      },
      "outputs": [],
      "source": [
        "Y_pred_K_ID3=[i[0] for i in Y_pred_K_ID3]"
      ]
    },
    {
      "cell_type": "code",
      "source": [
        "Y_test=[i[0] for i in Y_test]"
      ],
      "metadata": {
        "id": "Qo7ZbSpZmzKb"
      },
      "execution_count": null,
      "outputs": []
    },
    {
      "cell_type": "code",
      "execution_count": null,
      "metadata": {
        "id": "cpf7vTdYS2L7",
        "colab": {
          "base_uri": "https://localhost:8080/"
        },
        "outputId": "d3ef2f36-8610-4dfc-95a7-06bbd273e853"
      },
      "outputs": [
        {
          "output_type": "execute_result",
          "data": {
            "text/plain": [
              "0.46197827044863027"
            ]
          },
          "metadata": {},
          "execution_count": 76
        }
      ],
      "source": [
        "r2score_k_id3=r2Score(np.array(Y_pred_K_ID3), np.array(Y_test))\n",
        "r2score_k_id3"
      ]
    },
    {
      "cell_type": "code",
      "execution_count": null,
      "metadata": {
        "id": "OvCpoSHxkxLo"
      },
      "outputs": [],
      "source": [
        "class Cluster_CART():\n",
        "        \n",
        "    def __init__(self, k=5, max_iterations = 500):\n",
        "        self.k = k\n",
        "        self.max_iterations = max_iterations\n",
        "        self.clusters_train = {}\n",
        "        self.clusters_label = {}\n",
        "        self.root = {}\n",
        "    def euclidean_distance(self, point1, point2):\n",
        "        return np.linalg.norm(point1-point2, axis=0)\n",
        "\n",
        "    def train(self):\n",
        "        for i in range(self.k):\n",
        "            temp = CART_DTR()\n",
        "            temp.fit(X = self.clusters_train[i] , Y = self.clusters_label[i])\n",
        "            self.root[i] = temp\n",
        "\n",
        "    def make_clusters(self , X , y, centroids):\n",
        "        # Set the range for value of k (number of centroids)\n",
        "        for i in range(self.k):\n",
        "            self.clusters_train[i] = []\n",
        "            self.clusters_label[i] = []\n",
        "        for i in range(len(X)):\n",
        "            euc_dist = []\n",
        "            for j in range(self.k):\n",
        "                euc_dist.append(np.linalg.norm(X[i] - centroids[j]))\n",
        "            # Append the cluster of data to the dictionary\n",
        "            self.clusters_train[euc_dist.index(min(euc_dist))].append(X[i])\n",
        "            self.clusters_label[euc_dist.index(min(euc_dist))].append(y[i])\n",
        "\n",
        "    def predict(self, X):\n",
        "        y_pred = []\n",
        "        for i in range(len(X)):\n",
        "            euc_dist = []\n",
        "            for j in range(self.k):\n",
        "                euc_dist.append(np.linalg.norm(X[i] - centroids[j]))\n",
        "            idx = euc_dist.index(min(euc_dist))\n",
        "            # print(idx)\n",
        "            l = []\n",
        "            l.append(X[i])\n",
        "            y_pred.append(self.root[idx].predict(l))\n",
        "\n",
        "        return y_pred\n",
        "      \n",
        "    def fit(self, data):\n",
        "        self.centroids = {}\n",
        "        for i in range(self.k):\n",
        "            self.centroids[i] = data[i]\n",
        "  \n",
        "        for i in range(self.max_iterations):\n",
        "            self.classes = {}\n",
        "            for j in range(self.k):\n",
        "                self.classes[j] = []\n",
        "            for point in data:\n",
        "                distances = []\n",
        "                for index in self.centroids:\n",
        "                    distances.append(self.euclidean_distance(point,self.centroids[index]))\n",
        "                \n",
        "\n",
        "                cluster_index = distances.index(min(distances))\n",
        "                self.classes[cluster_index].append(point)\n",
        "      \n",
        "            for cluster_index in self.classes:\n",
        "                self.centroids[cluster_index] = np.average(self.classes[cluster_index], axis = 0)"
      ]
    },
    {
      "cell_type": "code",
      "execution_count": null,
      "metadata": {
        "id": "XyzsoXZvk0YB"
      },
      "outputs": [],
      "source": [
        "model = Cluster_CART()\n",
        "model.fit(X_train)\n",
        "model.make_clusters(X_train , Y_train , model.centroids)\n",
        "model.train()"
      ]
    },
    {
      "cell_type": "markdown",
      "metadata": {
        "id": "6qAkqvIDVXEx"
      },
      "source": [
        "# Predicting new_cases using updated CART model after clustering the datapoints."
      ]
    },
    {
      "cell_type": "code",
      "execution_count": null,
      "metadata": {
        "colab": {
          "base_uri": "https://localhost:8080/"
        },
        "id": "cNVb5IHwM52m",
        "outputId": "b7d997b5-4f07-4549-f586-c03b8102ea27"
      },
      "outputs": [
        {
          "output_type": "stream",
          "name": "stdout",
          "text": [
            "[[86142.0], [36297.086956521736], [42964.0], [27897.923076923078], [36297.086956521736], [27897.923076923078], [354374.3333333333], [21438.342857142856], [18731.625], [38.0], [361322.1666666667], [27897.923076923078], [36297.086956521736], [42964.0], [21438.342857142856], [107623.33333333333], [36297.086956521736], [42964.0], [21438.342857142856], [361322.1666666667], [42964.0], [18731.625], [354374.3333333333], [21438.342857142856], [36297.086956521736], [18731.625], [27897.923076923078], [21438.342857142856], [354374.3333333333], [27897.923076923078], [21438.342857142856], [38.0], [38.0], [127535.33333333333], [36297.086956521736], [36297.086956521736], [36297.086956521736], [38.0], [21438.342857142856], [36297.086956521736], [36297.086956521736], [21438.342857142856], [36297.086956521736], [38.0], [18731.625], [36297.086956521736], [42964.0], [36297.086956521736], [42964.0], [18731.625], [107623.33333333333], [21438.342857142856], [36297.086956521736], [38.0], [159206.2], [38.0], [38.0], [18731.625], [38.0], [38.0], [21438.342857142856], [18731.625], [18731.625], [21438.342857142856], [354374.3333333333], [36297.086956521736], [361322.1666666667], [107623.33333333333], [18731.625], [36297.086956521736], [361322.1666666667], [107623.33333333333], [64055.05882352941], [18731.625], [18731.625], [354374.3333333333], [38.0], [38.0], [36297.086956521736], [21438.342857142856], [36297.086956521736], [21438.342857142856], [27897.923076923078], [361322.1666666667], [36297.086956521736], [36297.086956521736], [42964.0], [21438.342857142856], [36297.086956521736], [36297.086956521736], [42964.0], [42964.0], [36297.086956521736], [36297.086956521736], [84070.06666666667]]\n"
          ]
        }
      ],
      "source": [
        "Y_pred_K_Cart = model.predict(X_test)\n",
        "print(Y_pred_K_Cart)"
      ]
    },
    {
      "cell_type": "code",
      "execution_count": null,
      "metadata": {
        "id": "gRRMKuToT39-"
      },
      "outputs": [],
      "source": [
        "Y_pred_K_Cart=[i[0] for i in Y_pred_K_Cart]"
      ]
    },
    {
      "cell_type": "code",
      "execution_count": null,
      "metadata": {
        "colab": {
          "base_uri": "https://localhost:8080/"
        },
        "id": "EUcEa72CTbDI",
        "outputId": "f990ac7f-f7ab-437d-eb9b-ab379fa182be"
      },
      "outputs": [
        {
          "output_type": "execute_result",
          "data": {
            "text/plain": [
              "0.20663881514930704"
            ]
          },
          "metadata": {},
          "execution_count": 82
        }
      ],
      "source": [
        "r2score_k_cart=r2Score(np.array(Y_pred_K_Cart), np.array(Y_test))\n",
        "r2score_k_cart"
      ]
    },
    {
      "cell_type": "code",
      "source": [
        ""
      ],
      "metadata": {
        "id": "1UH26LH4nWy0"
      },
      "execution_count": null,
      "outputs": []
    }
  ],
  "metadata": {
    "colab": {
      "collapsed_sections": [],
      "name": "FINAL_ML-Assignment1.ipynb",
      "provenance": [],
      "include_colab_link": true
    },
    "kernelspec": {
      "display_name": "Python 3",
      "language": "python",
      "name": "python3"
    },
    "language_info": {
      "codemirror_mode": {
        "name": "ipython",
        "version": 3
      },
      "file_extension": ".py",
      "mimetype": "text/x-python",
      "name": "python",
      "nbconvert_exporter": "python",
      "pygments_lexer": "ipython3",
      "version": "3.8.8"
    }
  },
  "nbformat": 4,
  "nbformat_minor": 0
}